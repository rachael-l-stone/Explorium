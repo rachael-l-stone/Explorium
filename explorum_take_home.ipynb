{
 "cells": [
  {
   "cell_type": "markdown",
   "id": "c47ccbdc",
   "metadata": {},
   "source": [
    "## Explorium Data Science Home Assignment"
   ]
  },
  {
   "cell_type": "markdown",
   "id": "261380e4",
   "metadata": {},
   "source": [
    "### Rachael Stone"
   ]
  },
  {
   "cell_type": "markdown",
   "id": "08189e63",
   "metadata": {},
   "source": [
    "#### 12/20/2021"
   ]
  },
  {
   "cell_type": "markdown",
   "id": "99ea4b6e",
   "metadata": {},
   "source": [
    "## Data Wrangle and Preprocessing"
   ]
  },
  {
   "cell_type": "code",
   "execution_count": 1,
   "id": "287d2a87",
   "metadata": {},
   "outputs": [],
   "source": [
    "import datetime\n",
    "import numpy as np\n",
    "from numpy import cos, sin, arcsin, sqrt\n",
    "import pandas as pd\n",
    "from sklearn.metrics import r2_score\n",
    "from sklearn.linear_model import LinearRegression\n",
    "from sklearn.tree import DecisionTreeRegressor\n",
    "from sklearn.ensemble import RandomForestRegressor\n",
    "from sklearn.datasets import make_regression\n",
    "from sklearn.model_selection import train_test_split\n",
    "from sklearn.datasets import make_regression\n",
    "from sklearn import metrics\n",
    "import seaborn as sns\n",
    "from matplotlib import pyplot as plt\n",
    "from pandas.tseries.holiday import USFederalHolidayCalendar as calendar\n",
    "from math import radians"
   ]
  },
  {
   "cell_type": "code",
   "execution_count": 2,
   "id": "34d18d02",
   "metadata": {},
   "outputs": [
    {
     "name": "stdout",
     "output_type": "stream",
     "text": [
      "(1092007, 7)\n"
     ]
    },
    {
     "data": {
      "text/html": [
       "<div>\n",
       "<style scoped>\n",
       "    .dataframe tbody tr th:only-of-type {\n",
       "        vertical-align: middle;\n",
       "    }\n",
       "\n",
       "    .dataframe tbody tr th {\n",
       "        vertical-align: top;\n",
       "    }\n",
       "\n",
       "    .dataframe thead th {\n",
       "        text-align: right;\n",
       "    }\n",
       "</style>\n",
       "<table border=\"1\" class=\"dataframe\">\n",
       "  <thead>\n",
       "    <tr style=\"text-align: right;\">\n",
       "      <th></th>\n",
       "      <th>Pickup Datetime</th>\n",
       "      <th>Price</th>\n",
       "      <th>Pickup Long</th>\n",
       "      <th>Pickup Lat</th>\n",
       "      <th>Dropoff Long</th>\n",
       "      <th>Dropoff Lat</th>\n",
       "      <th>Passenger Number</th>\n",
       "    </tr>\n",
       "  </thead>\n",
       "  <tbody>\n",
       "    <tr>\n",
       "      <th>0</th>\n",
       "      <td>2014-02-19 07:22:00.000000740</td>\n",
       "      <td>12.50</td>\n",
       "      <td>-73.986430</td>\n",
       "      <td>40.760465</td>\n",
       "      <td>-73.988990</td>\n",
       "      <td>40.737075</td>\n",
       "      <td>1</td>\n",
       "    </tr>\n",
       "    <tr>\n",
       "      <th>1</th>\n",
       "      <td>2014-12-06 20:36:22.000000800</td>\n",
       "      <td>4.00</td>\n",
       "      <td>-73.979815</td>\n",
       "      <td>40.751902</td>\n",
       "      <td>-73.979446</td>\n",
       "      <td>40.755481</td>\n",
       "      <td>1</td>\n",
       "    </tr>\n",
       "    <tr>\n",
       "      <th>2</th>\n",
       "      <td>2014-02-19 16:03:00.000000160</td>\n",
       "      <td>5.50</td>\n",
       "      <td>-73.976075</td>\n",
       "      <td>40.752422</td>\n",
       "      <td>-73.981082</td>\n",
       "      <td>40.759285</td>\n",
       "      <td>1</td>\n",
       "    </tr>\n",
       "    <tr>\n",
       "      <th>3</th>\n",
       "      <td>2015-06-21 21:46:34.000000100</td>\n",
       "      <td>22.54</td>\n",
       "      <td>-74.010483</td>\n",
       "      <td>40.717667</td>\n",
       "      <td>-73.985771</td>\n",
       "      <td>40.660366</td>\n",
       "      <td>1</td>\n",
       "    </tr>\n",
       "    <tr>\n",
       "      <th>4</th>\n",
       "      <td>2015-01-11 03:15:38.000000100</td>\n",
       "      <td>58.00</td>\n",
       "      <td>-73.983330</td>\n",
       "      <td>40.738720</td>\n",
       "      <td>-73.933197</td>\n",
       "      <td>40.847225</td>\n",
       "      <td>1</td>\n",
       "    </tr>\n",
       "    <tr>\n",
       "      <th>...</th>\n",
       "      <td>...</td>\n",
       "      <td>...</td>\n",
       "      <td>...</td>\n",
       "      <td>...</td>\n",
       "      <td>...</td>\n",
       "      <td>...</td>\n",
       "      <td>...</td>\n",
       "    </tr>\n",
       "    <tr>\n",
       "      <th>1092002</th>\n",
       "      <td>2014-04-23 19:47:00.000000287</td>\n",
       "      <td>10.00</td>\n",
       "      <td>-73.980087</td>\n",
       "      <td>40.764892</td>\n",
       "      <td>-73.989557</td>\n",
       "      <td>40.757127</td>\n",
       "      <td>3</td>\n",
       "    </tr>\n",
       "    <tr>\n",
       "      <th>1092003</th>\n",
       "      <td>2015-02-26 14:47:47.000000600</td>\n",
       "      <td>7.00</td>\n",
       "      <td>-73.982101</td>\n",
       "      <td>40.736214</td>\n",
       "      <td>-73.999100</td>\n",
       "      <td>40.731556</td>\n",
       "      <td>1</td>\n",
       "    </tr>\n",
       "    <tr>\n",
       "      <th>1092004</th>\n",
       "      <td>2014-09-30 12:36:00.000000180</td>\n",
       "      <td>13.50</td>\n",
       "      <td>-73.976300</td>\n",
       "      <td>40.775957</td>\n",
       "      <td>-73.992147</td>\n",
       "      <td>40.751052</td>\n",
       "      <td>1</td>\n",
       "    </tr>\n",
       "    <tr>\n",
       "      <th>1092005</th>\n",
       "      <td>2014-12-06 23:04:28.000000200</td>\n",
       "      <td>10.50</td>\n",
       "      <td>-73.981063</td>\n",
       "      <td>40.764125</td>\n",
       "      <td>-73.979259</td>\n",
       "      <td>40.781857</td>\n",
       "      <td>2</td>\n",
       "    </tr>\n",
       "    <tr>\n",
       "      <th>1092006</th>\n",
       "      <td>2015-05-30 19:01:24.000000400</td>\n",
       "      <td>10.00</td>\n",
       "      <td>-73.965401</td>\n",
       "      <td>40.759140</td>\n",
       "      <td>-73.971886</td>\n",
       "      <td>40.750870</td>\n",
       "      <td>1</td>\n",
       "    </tr>\n",
       "  </tbody>\n",
       "</table>\n",
       "<p>1092007 rows × 7 columns</p>\n",
       "</div>"
      ],
      "text/plain": [
       "                       Pickup Datetime  Price  Pickup Long  Pickup Lat  \\\n",
       "0        2014-02-19 07:22:00.000000740  12.50   -73.986430   40.760465   \n",
       "1        2014-12-06 20:36:22.000000800   4.00   -73.979815   40.751902   \n",
       "2        2014-02-19 16:03:00.000000160   5.50   -73.976075   40.752422   \n",
       "3        2015-06-21 21:46:34.000000100  22.54   -74.010483   40.717667   \n",
       "4        2015-01-11 03:15:38.000000100  58.00   -73.983330   40.738720   \n",
       "...                                ...    ...          ...         ...   \n",
       "1092002  2014-04-23 19:47:00.000000287  10.00   -73.980087   40.764892   \n",
       "1092003  2015-02-26 14:47:47.000000600   7.00   -73.982101   40.736214   \n",
       "1092004  2014-09-30 12:36:00.000000180  13.50   -73.976300   40.775957   \n",
       "1092005  2014-12-06 23:04:28.000000200  10.50   -73.981063   40.764125   \n",
       "1092006  2015-05-30 19:01:24.000000400  10.00   -73.965401   40.759140   \n",
       "\n",
       "         Dropoff Long  Dropoff Lat  Passenger Number  \n",
       "0          -73.988990    40.737075                 1  \n",
       "1          -73.979446    40.755481                 1  \n",
       "2          -73.981082    40.759285                 1  \n",
       "3          -73.985771    40.660366                 1  \n",
       "4          -73.933197    40.847225                 1  \n",
       "...               ...          ...               ...  \n",
       "1092002    -73.989557    40.757127                 3  \n",
       "1092003    -73.999100    40.731556                 1  \n",
       "1092004    -73.992147    40.751052                 1  \n",
       "1092005    -73.979259    40.781857                 2  \n",
       "1092006    -73.971886    40.750870                 1  \n",
       "\n",
       "[1092007 rows x 7 columns]"
      ]
     },
     "execution_count": 2,
     "metadata": {},
     "output_type": "execute_result"
    }
   ],
   "source": [
    "# Read in data\n",
    "data_df= pd.read_csv('data.csv')\n",
    "print(data_df.shape)\n",
    "data_df"
   ]
  },
  {
   "cell_type": "markdown",
   "id": "333ddd0d",
   "metadata": {},
   "source": [
    "### EDA"
   ]
  },
  {
   "cell_type": "code",
   "execution_count": 3,
   "id": "30eb9fe3",
   "metadata": {},
   "outputs": [
    {
     "data": {
      "text/plain": [
       "Pickup Datetime      object\n",
       "Price               float64\n",
       "Pickup Long         float64\n",
       "Pickup Lat          float64\n",
       "Dropoff Long        float64\n",
       "Dropoff Lat         float64\n",
       "Passenger Number      int64\n",
       "dtype: object"
      ]
     },
     "execution_count": 3,
     "metadata": {},
     "output_type": "execute_result"
    }
   ],
   "source": [
    "data_df.dtypes"
   ]
  },
  {
   "cell_type": "markdown",
   "id": "3b3c1202",
   "metadata": {},
   "source": [
    "#### Pickup Datetime"
   ]
  },
  {
   "cell_type": "code",
   "execution_count": 4,
   "id": "693c4ff9",
   "metadata": {},
   "outputs": [
    {
     "name": "stdout",
     "output_type": "stream",
     "text": [
      "2014-01-01 00:00:26.000000300    1\n",
      "2014-01-01 00:01:00.000000320    1\n",
      "2014-01-01 00:01:00.000000390    1\n",
      "2014-01-01 00:01:00.000000970    1\n",
      "2014-01-01 00:01:00.000000980    1\n",
      "                                ..\n",
      "2015-06-30 23:53:49.000000300    1\n",
      "2015-06-30 23:55:51.000000700    1\n",
      "2015-06-30 23:56:00.000000100    1\n",
      "2015-06-30 23:56:50.000000100    1\n",
      "2015-06-30 23:59:03.000000400    1\n",
      "Name: Pickup Datetime, Length: 1091580, dtype: int64\n"
     ]
    },
    {
     "data": {
      "text/plain": [
       "<AxesSubplot:>"
      ]
     },
     "execution_count": 4,
     "metadata": {},
     "output_type": "execute_result"
    },
    {
     "data": {
      "image/png": "[encoded data removed]",
      "text/plain": [
       "<Figure size 432x288 with 1 Axes>"
      ]
     },
     "metadata": {
      "needs_background": "light"
     },
     "output_type": "display_data"
    }
   ],
   "source": [
    "#explore Pickup Datetime variable\n",
    "data_df['Pickup Datetime'] = pd.to_datetime(data_df['Pickup Datetime'])\n",
    "print(data_df['Pickup Datetime'].value_counts().sort_index())\n",
    "data_df['Pickup Datetime'].hist()\n",
    "#dates look good"
   ]
  },
  {
   "cell_type": "code",
   "execution_count": 5,
   "id": "1729d50f",
   "metadata": {},
   "outputs": [
    {
     "data": {
      "text/plain": [
       "<matplotlib.collections.PathCollection at 0x7fde40bdfa90>"
      ]
     },
     "execution_count": 5,
     "metadata": {},
     "output_type": "execute_result"
    },
    {
     "data": {
      "image/png": "[encoded data removed]",
      "text/plain": [
       "<Figure size 432x288 with 1 Axes>"
      ]
     },
     "metadata": {
      "needs_background": "light"
     },
     "output_type": "display_data"
    }
   ],
   "source": [
    "# plot datetime vs. price\n",
    "plt.scatter(data_df['Pickup Datetime'],data_df['Price'])"
   ]
  },
  {
   "cell_type": "markdown",
   "id": "8698ad30",
   "metadata": {},
   "source": [
    "#### Price"
   ]
  },
  {
   "cell_type": "code",
   "execution_count": 6,
   "id": "3b11139a",
   "metadata": {},
   "outputs": [
    {
     "name": "stdout",
     "output_type": "stream",
     "text": [
      "-100.00     1\n",
      "-62.00      1\n",
      "-60.00      1\n",
      "-57.33      1\n",
      "-53.69      1\n",
      "           ..\n",
      " 495.00     1\n",
      " 542.83     1\n",
      " 698.16     1\n",
      " 952.00     1\n",
      " 1273.31    1\n",
      "Name: Price, Length: 1744, dtype: int64\n"
     ]
    },
    {
     "data": {
      "text/plain": [
       "<AxesSubplot:>"
      ]
     },
     "execution_count": 6,
     "metadata": {},
     "output_type": "execute_result"
    },
    {
     "data": {
      "image/png": "[encoded data removed]",
      "text/plain": [
       "<Figure size 432x288 with 1 Axes>"
      ]
     },
     "metadata": {
      "needs_background": "light"
     },
     "output_type": "display_data"
    }
   ],
   "source": [
    "#explore Price variable\n",
    "print(data_df['Price'].value_counts().sort_index())\n",
    "data_df['Price'].hist()\n",
    "#there are some 0 prices, negative prices and a few really high values"
   ]
  },
  {
   "cell_type": "code",
   "execution_count": 7,
   "id": "9da3a338",
   "metadata": {},
   "outputs": [
    {
     "name": "stdout",
     "output_type": "stream",
     "text": [
      "Highest allowed 47.357899036060594\n",
      "Lowest allowed -21.462362670451206\n"
     ]
    }
   ],
   "source": [
    "#If I used an IQR calculation what would the outer bounds of my data that is \"allowed\"\n",
    "print(\"Highest allowed\",data_df['Price'].mean() + 3*data_df['Price'].std())\n",
    "print(\"Lowest allowed\",data_df['Price'].mean() - 3*data_df['Price'].std())"
   ]
  },
  {
   "cell_type": "markdown",
   "id": "894d97cc",
   "metadata": {},
   "source": [
    "#### Pickup Long"
   ]
  },
  {
   "cell_type": "code",
   "execution_count": 8,
   "id": "22e08ae0",
   "metadata": {},
   "outputs": [
    {
     "name": "stdout",
     "output_type": "stream",
     "text": [
      "-121.914810        1\n",
      "-109.362038        1\n",
      "-108.202955        1\n",
      "-80.408781         1\n",
      "-78.152138         1\n",
      "               ...  \n",
      "-65.701523         1\n",
      "-65.234275         1\n",
      "-60.880020         1\n",
      "-48.136074         1\n",
      " 0.000000      20868\n",
      "Name: Pickup Long, Length: 109574, dtype: int64\n"
     ]
    },
    {
     "data": {
      "text/plain": [
       "<AxesSubplot:>"
      ]
     },
     "execution_count": 8,
     "metadata": {},
     "output_type": "execute_result"
    },
    {
     "data": {
      "image/png": "[encoded data removed]",
      "text/plain": [
       "<Figure size 432x288 with 1 Axes>"
      ]
     },
     "metadata": {
      "needs_background": "light"
     },
     "output_type": "display_data"
    }
   ],
   "source": [
    "#explore Pickup Long variable\n",
    "print(data_df['Pickup Long'].value_counts().sort_index())\n",
    "data_df['Pickup Long'].hist()\n",
    "\n",
    "# There are some 0 longitudes and then looks to range from -120 (as far west as Nevada) to -50 (the middle of the Atlantic Ocean). \n"
   ]
  },
  {
   "cell_type": "code",
   "execution_count": 9,
   "id": "e7f8202b",
   "metadata": {},
   "outputs": [
    {
     "data": {
      "text/plain": [
       "<matplotlib.collections.PathCollection at 0x7fde42ab9be0>"
      ]
     },
     "execution_count": 9,
     "metadata": {},
     "output_type": "execute_result"
    },
    {
     "data": {
      "image/png": "[encoded data removed]",
      "text/plain": [
       "<Figure size 432x288 with 1 Axes>"
      ]
     },
     "metadata": {
      "needs_background": "light"
     },
     "output_type": "display_data"
    }
   ],
   "source": [
    "# plot pickup long vs. price\n",
    "plt.scatter(data_df['Pickup Long'],data_df['Price'])"
   ]
  },
  {
   "cell_type": "markdown",
   "id": "56d20b6d",
   "metadata": {},
   "source": [
    "#### Pickup Lat"
   ]
  },
  {
   "cell_type": "code",
   "execution_count": 10,
   "id": "153fd119",
   "metadata": {},
   "outputs": [
    {
     "name": "stdout",
     "output_type": "stream",
     "text": [
      "-19.721222        1\n",
      " 0.000000     20868\n",
      " 5.540077         1\n",
      " 32.483467        1\n",
      " 33.301123        1\n",
      "              ...  \n",
      " 46.209961        1\n",
      " 47.245836        1\n",
      " 47.267397        1\n",
      " 48.741180        1\n",
      " 55.375143        1\n",
      "Name: Pickup Lat, Length: 146132, dtype: int64\n"
     ]
    },
    {
     "data": {
      "text/plain": [
       "<AxesSubplot:>"
      ]
     },
     "execution_count": 10,
     "metadata": {},
     "output_type": "execute_result"
    },
    {
     "data": {
      "image/png": "[encoded data removed]",
      "text/plain": [
       "<Figure size 432x288 with 1 Axes>"
      ]
     },
     "metadata": {
      "needs_background": "light"
     },
     "output_type": "display_data"
    }
   ],
   "source": [
    "#explore Pickup Lat variable\n",
    "print(data_df['Pickup Lat'].value_counts().sort_index())\n",
    "data_df['Pickup Lat'].hist()\n",
    "\n",
    "# There are some 0 latitudes and then looks to range from 60 to -20. \n",
    "#It does not seem likely that someone took a ride to central america or even further south.\n"
   ]
  },
  {
   "cell_type": "code",
   "execution_count": 11,
   "id": "059c28e9",
   "metadata": {},
   "outputs": [
    {
     "data": {
      "text/plain": [
       "<matplotlib.collections.PathCollection at 0x7fde477090d0>"
      ]
     },
     "execution_count": 11,
     "metadata": {},
     "output_type": "execute_result"
    },
    {
     "data": {
      "image/png": "[encoded data removed]",
      "text/plain": [
       "<Figure size 432x288 with 1 Axes>"
      ]
     },
     "metadata": {
      "needs_background": "light"
     },
     "output_type": "display_data"
    }
   ],
   "source": [
    "# plot pickup lat vs. price\n",
    "plt.scatter(data_df['Pickup Lat'],data_df['Price'])"
   ]
  },
  {
   "cell_type": "markdown",
   "id": "75dd1656",
   "metadata": {},
   "source": [
    "#### Dropoff Long"
   ]
  },
  {
   "cell_type": "code",
   "execution_count": 12,
   "id": "18d6e372",
   "metadata": {},
   "outputs": [
    {
     "name": "stdout",
     "output_type": "stream",
     "text": [
      "-714.400000        1\n",
      "-121.915237        1\n",
      "-108.202955        1\n",
      "-94.433679         1\n",
      "-79.036439         1\n",
      "               ...  \n",
      "-65.234275         1\n",
      "-64.456134         1\n",
      "-60.353933         1\n",
      "-56.311580         1\n",
      " 0.000000      20810\n",
      "Name: Dropoff Long, Length: 132866, dtype: int64\n"
     ]
    },
    {
     "data": {
      "text/plain": [
       "<AxesSubplot:>"
      ]
     },
     "execution_count": 12,
     "metadata": {},
     "output_type": "execute_result"
    },
    {
     "data": {
      "image/png": "[encoded data removed]",
      "text/plain": [
       "<Figure size 432x288 with 1 Axes>"
      ]
     },
     "metadata": {
      "needs_background": "light"
     },
     "output_type": "display_data"
    }
   ],
   "source": [
    "#explore Dropoff Long variable\n",
    "print(data_df['Dropoff Long'].value_counts().sort_index())\n",
    "data_df['Dropoff Long'].hist()\n",
    "# there are some natural breaks in longitude that may help determine outliers"
   ]
  },
  {
   "cell_type": "code",
   "execution_count": 13,
   "id": "c3707a8c",
   "metadata": {},
   "outputs": [
    {
     "data": {
      "text/plain": [
       "<matplotlib.collections.PathCollection at 0x7fde475b13d0>"
      ]
     },
     "execution_count": 13,
     "metadata": {},
     "output_type": "execute_result"
    },
    {
     "data": {
      "image/png": "[encoded data removed]",
      "text/plain": [
       "<Figure size 432x288 with 1 Axes>"
      ]
     },
     "metadata": {
      "needs_background": "light"
     },
     "output_type": "display_data"
    }
   ],
   "source": [
    "# Plot Drop off Long vs. Price\n",
    "plt.scatter(data_df['Dropoff Long'],data_df['Price'])\n"
   ]
  },
  {
   "cell_type": "markdown",
   "id": "ce60147f",
   "metadata": {},
   "source": [
    "#### Dropoff Lat"
   ]
  },
  {
   "cell_type": "code",
   "execution_count": 14,
   "id": "7dfa57cf",
   "metadata": {},
   "outputs": [
    {
     "name": "stdout",
     "output_type": "stream",
     "text": [
      "-19.721222        1\n",
      " 0.000000     20810\n",
      " 4.050000         1\n",
      " 4.080650         1\n",
      " 31.560196        1\n",
      "              ...  \n",
      " 45.341914        3\n",
      " 46.788974        1\n",
      " 47.244756        1\n",
      " 47.311358        1\n",
      " 48.741180        1\n",
      "Name: Dropoff Lat, Length: 177837, dtype: int64\n"
     ]
    },
    {
     "data": {
      "text/plain": [
       "<AxesSubplot:>"
      ]
     },
     "execution_count": 14,
     "metadata": {},
     "output_type": "execute_result"
    },
    {
     "data": {
      "image/png": "[encoded data removed]",
      "text/plain": [
       "<Figure size 432x288 with 1 Axes>"
      ]
     },
     "metadata": {
      "needs_background": "light"
     },
     "output_type": "display_data"
    }
   ],
   "source": [
    "#explore Dropoff Lat variable\n",
    "print(data_df['Dropoff Lat'].value_counts().sort_index())\n",
    "data_df['Dropoff Lat'].hist()\n",
    "# there are some natural breaks in latitude that may help determine outliers"
   ]
  },
  {
   "cell_type": "code",
   "execution_count": 15,
   "id": "7b30e680",
   "metadata": {},
   "outputs": [
    {
     "data": {
      "text/plain": [
       "<matplotlib.collections.PathCollection at 0x7fde47429c40>"
      ]
     },
     "execution_count": 15,
     "metadata": {},
     "output_type": "execute_result"
    },
    {
     "data": {
      "image/png": "[encoded data removed]",
      "text/plain": [
       "<Figure size 432x288 with 1 Axes>"
      ]
     },
     "metadata": {
      "needs_background": "light"
     },
     "output_type": "display_data"
    }
   ],
   "source": [
    "#Any crazy Lattitudes different than the others? Outside of New York?\n",
    "plt.scatter(data_df['Dropoff Lat'],data_df['Price'])\n"
   ]
  },
  {
   "cell_type": "markdown",
   "id": "f16fbb21",
   "metadata": {},
   "source": [
    "#### Passenger Number"
   ]
  },
  {
   "cell_type": "code",
   "execution_count": 16,
   "id": "fab33089",
   "metadata": {},
   "outputs": [
    {
     "name": "stdout",
     "output_type": "stream",
     "text": [
      "0       198\n",
      "1    769363\n",
      "2    153505\n",
      "3     46151\n",
      "4     21987\n",
      "5     60718\n",
      "6     40082\n",
      "7         1\n",
      "9         2\n",
      "Name: Passenger Number, dtype: int64\n"
     ]
    },
    {
     "data": {
      "text/plain": [
       "<AxesSubplot:>"
      ]
     },
     "execution_count": 16,
     "metadata": {},
     "output_type": "execute_result"
    },
    {
     "data": {
      "image/png": "[encoded data removed]",
      "text/plain": [
       "<Figure size 432x288 with 1 Axes>"
      ]
     },
     "metadata": {
      "needs_background": "light"
     },
     "output_type": "display_data"
    }
   ],
   "source": [
    "#explore Passenger Number variable\n",
    "print(data_df['Passenger Number'].value_counts().sort_index())\n",
    "data_df['Passenger Number'].hist()\n",
    "#numbers of passengers seems plausible (maybe with a commuter van, etc.), 0 passengers - not possible"
   ]
  },
  {
   "cell_type": "code",
   "execution_count": 17,
   "id": "c4dbb91b",
   "metadata": {},
   "outputs": [
    {
     "data": {
      "text/plain": [
       "<matplotlib.collections.PathCollection at 0x7fde473e2280>"
      ]
     },
     "execution_count": 17,
     "metadata": {},
     "output_type": "execute_result"
    },
    {
     "data": {
      "image/png": "[encoded data removed]",
      "text/plain": [
       "<Figure size 432x288 with 1 Axes>"
      ]
     },
     "metadata": {
      "needs_background": "light"
     },
     "output_type": "display_data"
    }
   ],
   "source": [
    "#Plot passenger number vs. price\n",
    "plt.scatter(data_df['Passenger Number'],data_df['Price'])\n"
   ]
  },
  {
   "cell_type": "markdown",
   "id": "28305e72",
   "metadata": {},
   "source": [
    "### Processing"
   ]
  },
  {
   "cell_type": "code",
   "execution_count": 18,
   "id": "52e48e70",
   "metadata": {},
   "outputs": [
    {
     "name": "stdout",
     "output_type": "stream",
     "text": [
      "2014-01-01 00:00:26.000000300    1\n",
      "2014-01-01 00:01:00.000000320    1\n",
      "2014-01-01 00:01:00.000000390    1\n",
      "2014-01-01 00:01:00.000000970    1\n",
      "2014-01-01 00:01:00.000000980    1\n",
      "                                ..\n",
      "2015-06-30 23:53:49.000000300    1\n",
      "2015-06-30 23:55:51.000000700    1\n",
      "2015-06-30 23:56:00.000000100    1\n",
      "2015-06-30 23:56:50.000000100    1\n",
      "2015-06-30 23:59:03.000000400    1\n",
      "Name: Pickup Datetime, Length: 1091580, dtype: int64\n"
     ]
    },
    {
     "data": {
      "text/plain": [
       "<AxesSubplot:>"
      ]
     },
     "execution_count": 18,
     "metadata": {},
     "output_type": "execute_result"
    },
    {
     "data": {
      "image/png": "[encoded data removed]",
      "text/plain": [
       "<Figure size 432x288 with 1 Axes>"
      ]
     },
     "metadata": {
      "needs_background": "light"
     },
     "output_type": "display_data"
    }
   ],
   "source": [
    "# convert datatime to integers\n",
    "# week ends and week days\n",
    "\n",
    "data_df['Pickup Datetime'] = pd.to_datetime(data_df['Pickup Datetime'])\n",
    "print(data_df['Pickup Datetime'].value_counts().sort_index())\n",
    "data_df['Pickup Datetime'].hist()\n",
    "#dates look good"
   ]
  },
  {
   "cell_type": "code",
   "execution_count": 19,
   "id": "f8f8c8c8",
   "metadata": {},
   "outputs": [],
   "source": [
    "#convert datetime to integers variables\n",
    "data_df['Hour'] = data_df['Pickup Datetime'].apply(lambda time: time.hour)\n",
    "data_df['Month'] = data_df['Pickup Datetime'].apply(lambda time: time.month)\n",
    "data_df['Day of Week'] = data_df['Pickup Datetime'].apply(lambda time: time.dayofweek)\n",
    "data_df['Year'] = data_df['Pickup Datetime'].apply(lambda t: t.year)\n",
    "data_df['Date'] = data_df['Pickup Datetime'].apply(lambda t: t.day)\n",
    "data_df"
   ]
  },
  {
   "cell_type": "code",
   "execution_count": 20,
   "id": "98a56599",
   "metadata": {},
   "outputs": [],
   "source": [
    "# # data_df['Day of Week'] = data_df[(data_df['Day of Week'] == 5) & (data_df[(data_df['Day of Week'] == 6)]\n",
    "# #instead of indivudal days of the week - convert to weekday and weekends - I think this will be more telling\n",
    "# data_df['Day of Week'] = data_df['Day of Week'].replace([1,2,3,4,5,6,7],[1,1,1,1,2,2,1])\n",
    "# # this variable change didn't help in model performance"
   ]
  },
  {
   "cell_type": "code",
   "execution_count": 22,
   "id": "b94a2faf",
   "metadata": {},
   "outputs": [],
   "source": [
    "# #add US federal holidays to dataframe\n",
    "# cal = calendar()\n",
    "# holidays = cal.holidays(start = data_df['Pickup Datetime'].min(), end = data_df['Pickup Datetime'].max())\n",
    "# data_df['Pickup Datetime'] =  pd.to_datetime(data_df['Pickup Datetime']).dt.normalize()\n",
    "# data_df['Holiday'] = data_df['Pickup Datetime'].isin(holidays)*1\n",
    "# # I added holidays to dataframe but it didn't seem to improve my metrics"
   ]
  },
  {
   "cell_type": "code",
   "execution_count": 23,
   "id": "aa5f4a55",
   "metadata": {},
   "outputs": [
    {
     "name": "stdout",
     "output_type": "stream",
     "text": [
      "1069086\n"
     ]
    },
    {
     "data": {
      "text/html": [
       "<div>\n",
       "<style scoped>\n",
       "    .dataframe tbody tr th:only-of-type {\n",
       "        vertical-align: middle;\n",
       "    }\n",
       "\n",
       "    .dataframe tbody tr th {\n",
       "        vertical-align: top;\n",
       "    }\n",
       "\n",
       "    .dataframe thead th {\n",
       "        text-align: right;\n",
       "    }\n",
       "</style>\n",
       "<table border=\"1\" class=\"dataframe\">\n",
       "  <thead>\n",
       "    <tr style=\"text-align: right;\">\n",
       "      <th></th>\n",
       "      <th>Pickup Datetime</th>\n",
       "      <th>Price</th>\n",
       "      <th>Pickup Long</th>\n",
       "      <th>Pickup Lat</th>\n",
       "      <th>Dropoff Long</th>\n",
       "      <th>Dropoff Lat</th>\n",
       "      <th>Passenger Number</th>\n",
       "      <th>Hour</th>\n",
       "      <th>Month</th>\n",
       "      <th>Day of Week</th>\n",
       "      <th>Year</th>\n",
       "      <th>Date</th>\n",
       "    </tr>\n",
       "  </thead>\n",
       "  <tbody>\n",
       "    <tr>\n",
       "      <th>0</th>\n",
       "      <td>2014-02-19 07:22:00.000000740</td>\n",
       "      <td>12.50</td>\n",
       "      <td>-73.986430</td>\n",
       "      <td>40.760465</td>\n",
       "      <td>-73.988990</td>\n",
       "      <td>40.737075</td>\n",
       "      <td>1</td>\n",
       "      <td>7</td>\n",
       "      <td>2</td>\n",
       "      <td>2</td>\n",
       "      <td>2014</td>\n",
       "      <td>19</td>\n",
       "    </tr>\n",
       "    <tr>\n",
       "      <th>1</th>\n",
       "      <td>2014-12-06 20:36:22.000000800</td>\n",
       "      <td>4.00</td>\n",
       "      <td>-73.979815</td>\n",
       "      <td>40.751902</td>\n",
       "      <td>-73.979446</td>\n",
       "      <td>40.755481</td>\n",
       "      <td>1</td>\n",
       "      <td>20</td>\n",
       "      <td>12</td>\n",
       "      <td>5</td>\n",
       "      <td>2014</td>\n",
       "      <td>6</td>\n",
       "    </tr>\n",
       "    <tr>\n",
       "      <th>2</th>\n",
       "      <td>2014-02-19 16:03:00.000000160</td>\n",
       "      <td>5.50</td>\n",
       "      <td>-73.976075</td>\n",
       "      <td>40.752422</td>\n",
       "      <td>-73.981082</td>\n",
       "      <td>40.759285</td>\n",
       "      <td>1</td>\n",
       "      <td>16</td>\n",
       "      <td>2</td>\n",
       "      <td>2</td>\n",
       "      <td>2014</td>\n",
       "      <td>19</td>\n",
       "    </tr>\n",
       "    <tr>\n",
       "      <th>3</th>\n",
       "      <td>2015-06-21 21:46:34.000000100</td>\n",
       "      <td>22.54</td>\n",
       "      <td>-74.010483</td>\n",
       "      <td>40.717667</td>\n",
       "      <td>-73.985771</td>\n",
       "      <td>40.660366</td>\n",
       "      <td>1</td>\n",
       "      <td>21</td>\n",
       "      <td>6</td>\n",
       "      <td>6</td>\n",
       "      <td>2015</td>\n",
       "      <td>21</td>\n",
       "    </tr>\n",
       "    <tr>\n",
       "      <th>4</th>\n",
       "      <td>2015-01-11 03:15:38.000000100</td>\n",
       "      <td>58.00</td>\n",
       "      <td>-73.983330</td>\n",
       "      <td>40.738720</td>\n",
       "      <td>-73.933197</td>\n",
       "      <td>40.847225</td>\n",
       "      <td>1</td>\n",
       "      <td>3</td>\n",
       "      <td>1</td>\n",
       "      <td>6</td>\n",
       "      <td>2015</td>\n",
       "      <td>11</td>\n",
       "    </tr>\n",
       "    <tr>\n",
       "      <th>...</th>\n",
       "      <td>...</td>\n",
       "      <td>...</td>\n",
       "      <td>...</td>\n",
       "      <td>...</td>\n",
       "      <td>...</td>\n",
       "      <td>...</td>\n",
       "      <td>...</td>\n",
       "      <td>...</td>\n",
       "      <td>...</td>\n",
       "      <td>...</td>\n",
       "      <td>...</td>\n",
       "      <td>...</td>\n",
       "    </tr>\n",
       "    <tr>\n",
       "      <th>1092002</th>\n",
       "      <td>2014-04-23 19:47:00.000000287</td>\n",
       "      <td>10.00</td>\n",
       "      <td>-73.980087</td>\n",
       "      <td>40.764892</td>\n",
       "      <td>-73.989557</td>\n",
       "      <td>40.757127</td>\n",
       "      <td>3</td>\n",
       "      <td>19</td>\n",
       "      <td>4</td>\n",
       "      <td>2</td>\n",
       "      <td>2014</td>\n",
       "      <td>23</td>\n",
       "    </tr>\n",
       "    <tr>\n",
       "      <th>1092003</th>\n",
       "      <td>2015-02-26 14:47:47.000000600</td>\n",
       "      <td>7.00</td>\n",
       "      <td>-73.982101</td>\n",
       "      <td>40.736214</td>\n",
       "      <td>-73.999100</td>\n",
       "      <td>40.731556</td>\n",
       "      <td>1</td>\n",
       "      <td>14</td>\n",
       "      <td>2</td>\n",
       "      <td>3</td>\n",
       "      <td>2015</td>\n",
       "      <td>26</td>\n",
       "    </tr>\n",
       "    <tr>\n",
       "      <th>1092004</th>\n",
       "      <td>2014-09-30 12:36:00.000000180</td>\n",
       "      <td>13.50</td>\n",
       "      <td>-73.976300</td>\n",
       "      <td>40.775957</td>\n",
       "      <td>-73.992147</td>\n",
       "      <td>40.751052</td>\n",
       "      <td>1</td>\n",
       "      <td>12</td>\n",
       "      <td>9</td>\n",
       "      <td>1</td>\n",
       "      <td>2014</td>\n",
       "      <td>30</td>\n",
       "    </tr>\n",
       "    <tr>\n",
       "      <th>1092005</th>\n",
       "      <td>2014-12-06 23:04:28.000000200</td>\n",
       "      <td>10.50</td>\n",
       "      <td>-73.981063</td>\n",
       "      <td>40.764125</td>\n",
       "      <td>-73.979259</td>\n",
       "      <td>40.781857</td>\n",
       "      <td>2</td>\n",
       "      <td>23</td>\n",
       "      <td>12</td>\n",
       "      <td>5</td>\n",
       "      <td>2014</td>\n",
       "      <td>6</td>\n",
       "    </tr>\n",
       "    <tr>\n",
       "      <th>1092006</th>\n",
       "      <td>2015-05-30 19:01:24.000000400</td>\n",
       "      <td>10.00</td>\n",
       "      <td>-73.965401</td>\n",
       "      <td>40.759140</td>\n",
       "      <td>-73.971886</td>\n",
       "      <td>40.750870</td>\n",
       "      <td>1</td>\n",
       "      <td>19</td>\n",
       "      <td>5</td>\n",
       "      <td>5</td>\n",
       "      <td>2015</td>\n",
       "      <td>30</td>\n",
       "    </tr>\n",
       "  </tbody>\n",
       "</table>\n",
       "<p>1069086 rows × 12 columns</p>\n",
       "</div>"
      ],
      "text/plain": [
       "                      Pickup Datetime  Price  Pickup Long  Pickup Lat  \\\n",
       "0       2014-02-19 07:22:00.000000740  12.50   -73.986430   40.760465   \n",
       "1       2014-12-06 20:36:22.000000800   4.00   -73.979815   40.751902   \n",
       "2       2014-02-19 16:03:00.000000160   5.50   -73.976075   40.752422   \n",
       "3       2015-06-21 21:46:34.000000100  22.54   -74.010483   40.717667   \n",
       "4       2015-01-11 03:15:38.000000100  58.00   -73.983330   40.738720   \n",
       "...                               ...    ...          ...         ...   \n",
       "1092002 2014-04-23 19:47:00.000000287  10.00   -73.980087   40.764892   \n",
       "1092003 2015-02-26 14:47:47.000000600   7.00   -73.982101   40.736214   \n",
       "1092004 2014-09-30 12:36:00.000000180  13.50   -73.976300   40.775957   \n",
       "1092005 2014-12-06 23:04:28.000000200  10.50   -73.981063   40.764125   \n",
       "1092006 2015-05-30 19:01:24.000000400  10.00   -73.965401   40.759140   \n",
       "\n",
       "         Dropoff Long  Dropoff Lat  Passenger Number  Hour  Month  \\\n",
       "0          -73.988990    40.737075                 1     7      2   \n",
       "1          -73.979446    40.755481                 1    20     12   \n",
       "2          -73.981082    40.759285                 1    16      2   \n",
       "3          -73.985771    40.660366                 1    21      6   \n",
       "4          -73.933197    40.847225                 1     3      1   \n",
       "...               ...          ...               ...   ...    ...   \n",
       "1092002    -73.989557    40.757127                 3    19      4   \n",
       "1092003    -73.999100    40.731556                 1    14      2   \n",
       "1092004    -73.992147    40.751052                 1    12      9   \n",
       "1092005    -73.979259    40.781857                 2    23     12   \n",
       "1092006    -73.971886    40.750870                 1    19      5   \n",
       "\n",
       "         Day of Week  Year  Date  \n",
       "0                  2  2014    19  \n",
       "1                  5  2014     6  \n",
       "2                  2  2014    19  \n",
       "3                  6  2015    21  \n",
       "4                  6  2015    11  \n",
       "...              ...   ...   ...  \n",
       "1092002            2  2014    23  \n",
       "1092003            3  2015    26  \n",
       "1092004            1  2014    30  \n",
       "1092005            5  2014     6  \n",
       "1092006            5  2015    30  \n",
       "\n",
       "[1069086 rows x 12 columns]"
      ]
     },
     "execution_count": 23,
     "metadata": {},
     "output_type": "execute_result"
    }
   ],
   "source": [
    "# How to handle zeros\n",
    "#from the EDA above I have determined that I will not include 0 values in these variables\n",
    "data_df = data_df[data_df['Price'] != 0]\n",
    "data_df = data_df[data_df['Pickup Long'] != 0]\n",
    "data_df = data_df[data_df['Pickup Lat'] != 0]\n",
    "data_df = data_df[data_df['Dropoff Long'] != 0]\n",
    "data_df = data_df[data_df['Dropoff Lat'] != 0]\n",
    "print(len(data_df))\n",
    "data_df"
   ]
  },
  {
   "cell_type": "code",
   "execution_count": 24,
   "id": "023bb626",
   "metadata": {},
   "outputs": [
    {
     "data": {
      "text/html": [
       "<div>\n",
       "<style scoped>\n",
       "    .dataframe tbody tr th:only-of-type {\n",
       "        vertical-align: middle;\n",
       "    }\n",
       "\n",
       "    .dataframe tbody tr th {\n",
       "        vertical-align: top;\n",
       "    }\n",
       "\n",
       "    .dataframe thead th {\n",
       "        text-align: right;\n",
       "    }\n",
       "</style>\n",
       "<table border=\"1\" class=\"dataframe\">\n",
       "  <thead>\n",
       "    <tr style=\"text-align: right;\">\n",
       "      <th></th>\n",
       "      <th>Pickup Datetime</th>\n",
       "      <th>Price</th>\n",
       "      <th>Pickup Long</th>\n",
       "      <th>Pickup Lat</th>\n",
       "      <th>Dropoff Long</th>\n",
       "      <th>Dropoff Lat</th>\n",
       "      <th>Passenger Number</th>\n",
       "      <th>Hour</th>\n",
       "      <th>Month</th>\n",
       "      <th>Day of Week</th>\n",
       "      <th>Year</th>\n",
       "      <th>Date</th>\n",
       "    </tr>\n",
       "  </thead>\n",
       "  <tbody>\n",
       "  </tbody>\n",
       "</table>\n",
       "</div>"
      ],
      "text/plain": [
       "Empty DataFrame\n",
       "Columns: [Pickup Datetime, Price, Pickup Long, Pickup Lat, Dropoff Long, Dropoff Lat, Passenger Number, Hour, Month, Day of Week, Year, Date]\n",
       "Index: []"
      ]
     },
     "execution_count": 24,
     "metadata": {},
     "output_type": "execute_result"
    }
   ],
   "source": [
    "# Aret there any Nulls?\n",
    "data_df[data_df.isna().any(axis=1)]"
   ]
  },
  {
   "cell_type": "code",
   "execution_count": 25,
   "id": "a40a3a63",
   "metadata": {},
   "outputs": [
    {
     "data": {
      "text/html": [
       "<div>\n",
       "<style scoped>\n",
       "    .dataframe tbody tr th:only-of-type {\n",
       "        vertical-align: middle;\n",
       "    }\n",
       "\n",
       "    .dataframe tbody tr th {\n",
       "        vertical-align: top;\n",
       "    }\n",
       "\n",
       "    .dataframe thead th {\n",
       "        text-align: right;\n",
       "    }\n",
       "</style>\n",
       "<table border=\"1\" class=\"dataframe\">\n",
       "  <thead>\n",
       "    <tr style=\"text-align: right;\">\n",
       "      <th></th>\n",
       "      <th>Pickup Datetime</th>\n",
       "      <th>Price</th>\n",
       "      <th>Pickup Long</th>\n",
       "      <th>Pickup Lat</th>\n",
       "      <th>Dropoff Long</th>\n",
       "      <th>Dropoff Lat</th>\n",
       "      <th>Passenger Number</th>\n",
       "      <th>Hour</th>\n",
       "      <th>Month</th>\n",
       "      <th>Day of Week</th>\n",
       "      <th>Year</th>\n",
       "      <th>Date</th>\n",
       "    </tr>\n",
       "  </thead>\n",
       "  <tbody>\n",
       "    <tr>\n",
       "      <th>0</th>\n",
       "      <td>2014-02-19 07:22:00.000000740</td>\n",
       "      <td>12.50</td>\n",
       "      <td>-73.986430</td>\n",
       "      <td>40.760465</td>\n",
       "      <td>-73.988990</td>\n",
       "      <td>40.737075</td>\n",
       "      <td>1</td>\n",
       "      <td>7</td>\n",
       "      <td>2</td>\n",
       "      <td>2</td>\n",
       "      <td>2014</td>\n",
       "      <td>19</td>\n",
       "    </tr>\n",
       "    <tr>\n",
       "      <th>1</th>\n",
       "      <td>2014-12-06 20:36:22.000000800</td>\n",
       "      <td>4.00</td>\n",
       "      <td>-73.979815</td>\n",
       "      <td>40.751902</td>\n",
       "      <td>-73.979446</td>\n",
       "      <td>40.755481</td>\n",
       "      <td>1</td>\n",
       "      <td>20</td>\n",
       "      <td>12</td>\n",
       "      <td>5</td>\n",
       "      <td>2014</td>\n",
       "      <td>6</td>\n",
       "    </tr>\n",
       "    <tr>\n",
       "      <th>2</th>\n",
       "      <td>2014-02-19 16:03:00.000000160</td>\n",
       "      <td>5.50</td>\n",
       "      <td>-73.976075</td>\n",
       "      <td>40.752422</td>\n",
       "      <td>-73.981082</td>\n",
       "      <td>40.759285</td>\n",
       "      <td>1</td>\n",
       "      <td>16</td>\n",
       "      <td>2</td>\n",
       "      <td>2</td>\n",
       "      <td>2014</td>\n",
       "      <td>19</td>\n",
       "    </tr>\n",
       "    <tr>\n",
       "      <th>3</th>\n",
       "      <td>2015-06-21 21:46:34.000000100</td>\n",
       "      <td>22.54</td>\n",
       "      <td>-74.010483</td>\n",
       "      <td>40.717667</td>\n",
       "      <td>-73.985771</td>\n",
       "      <td>40.660366</td>\n",
       "      <td>1</td>\n",
       "      <td>21</td>\n",
       "      <td>6</td>\n",
       "      <td>6</td>\n",
       "      <td>2015</td>\n",
       "      <td>21</td>\n",
       "    </tr>\n",
       "    <tr>\n",
       "      <th>4</th>\n",
       "      <td>2015-01-11 03:15:38.000000100</td>\n",
       "      <td>58.00</td>\n",
       "      <td>-73.983330</td>\n",
       "      <td>40.738720</td>\n",
       "      <td>-73.933197</td>\n",
       "      <td>40.847225</td>\n",
       "      <td>1</td>\n",
       "      <td>3</td>\n",
       "      <td>1</td>\n",
       "      <td>6</td>\n",
       "      <td>2015</td>\n",
       "      <td>11</td>\n",
       "    </tr>\n",
       "    <tr>\n",
       "      <th>...</th>\n",
       "      <td>...</td>\n",
       "      <td>...</td>\n",
       "      <td>...</td>\n",
       "      <td>...</td>\n",
       "      <td>...</td>\n",
       "      <td>...</td>\n",
       "      <td>...</td>\n",
       "      <td>...</td>\n",
       "      <td>...</td>\n",
       "      <td>...</td>\n",
       "      <td>...</td>\n",
       "      <td>...</td>\n",
       "    </tr>\n",
       "    <tr>\n",
       "      <th>1092002</th>\n",
       "      <td>2014-04-23 19:47:00.000000287</td>\n",
       "      <td>10.00</td>\n",
       "      <td>-73.980087</td>\n",
       "      <td>40.764892</td>\n",
       "      <td>-73.989557</td>\n",
       "      <td>40.757127</td>\n",
       "      <td>3</td>\n",
       "      <td>19</td>\n",
       "      <td>4</td>\n",
       "      <td>2</td>\n",
       "      <td>2014</td>\n",
       "      <td>23</td>\n",
       "    </tr>\n",
       "    <tr>\n",
       "      <th>1092003</th>\n",
       "      <td>2015-02-26 14:47:47.000000600</td>\n",
       "      <td>7.00</td>\n",
       "      <td>-73.982101</td>\n",
       "      <td>40.736214</td>\n",
       "      <td>-73.999100</td>\n",
       "      <td>40.731556</td>\n",
       "      <td>1</td>\n",
       "      <td>14</td>\n",
       "      <td>2</td>\n",
       "      <td>3</td>\n",
       "      <td>2015</td>\n",
       "      <td>26</td>\n",
       "    </tr>\n",
       "    <tr>\n",
       "      <th>1092004</th>\n",
       "      <td>2014-09-30 12:36:00.000000180</td>\n",
       "      <td>13.50</td>\n",
       "      <td>-73.976300</td>\n",
       "      <td>40.775957</td>\n",
       "      <td>-73.992147</td>\n",
       "      <td>40.751052</td>\n",
       "      <td>1</td>\n",
       "      <td>12</td>\n",
       "      <td>9</td>\n",
       "      <td>1</td>\n",
       "      <td>2014</td>\n",
       "      <td>30</td>\n",
       "    </tr>\n",
       "    <tr>\n",
       "      <th>1092005</th>\n",
       "      <td>2014-12-06 23:04:28.000000200</td>\n",
       "      <td>10.50</td>\n",
       "      <td>-73.981063</td>\n",
       "      <td>40.764125</td>\n",
       "      <td>-73.979259</td>\n",
       "      <td>40.781857</td>\n",
       "      <td>2</td>\n",
       "      <td>23</td>\n",
       "      <td>12</td>\n",
       "      <td>5</td>\n",
       "      <td>2014</td>\n",
       "      <td>6</td>\n",
       "    </tr>\n",
       "    <tr>\n",
       "      <th>1092006</th>\n",
       "      <td>2015-05-30 19:01:24.000000400</td>\n",
       "      <td>10.00</td>\n",
       "      <td>-73.965401</td>\n",
       "      <td>40.759140</td>\n",
       "      <td>-73.971886</td>\n",
       "      <td>40.750870</td>\n",
       "      <td>1</td>\n",
       "      <td>19</td>\n",
       "      <td>5</td>\n",
       "      <td>5</td>\n",
       "      <td>2015</td>\n",
       "      <td>30</td>\n",
       "    </tr>\n",
       "  </tbody>\n",
       "</table>\n",
       "<p>1068979 rows × 12 columns</p>\n",
       "</div>"
      ],
      "text/plain": [
       "                      Pickup Datetime  Price  Pickup Long  Pickup Lat  \\\n",
       "0       2014-02-19 07:22:00.000000740  12.50   -73.986430   40.760465   \n",
       "1       2014-12-06 20:36:22.000000800   4.00   -73.979815   40.751902   \n",
       "2       2014-02-19 16:03:00.000000160   5.50   -73.976075   40.752422   \n",
       "3       2015-06-21 21:46:34.000000100  22.54   -74.010483   40.717667   \n",
       "4       2015-01-11 03:15:38.000000100  58.00   -73.983330   40.738720   \n",
       "...                               ...    ...          ...         ...   \n",
       "1092002 2014-04-23 19:47:00.000000287  10.00   -73.980087   40.764892   \n",
       "1092003 2015-02-26 14:47:47.000000600   7.00   -73.982101   40.736214   \n",
       "1092004 2014-09-30 12:36:00.000000180  13.50   -73.976300   40.775957   \n",
       "1092005 2014-12-06 23:04:28.000000200  10.50   -73.981063   40.764125   \n",
       "1092006 2015-05-30 19:01:24.000000400  10.00   -73.965401   40.759140   \n",
       "\n",
       "         Dropoff Long  Dropoff Lat  Passenger Number  Hour  Month  \\\n",
       "0          -73.988990    40.737075                 1     7      2   \n",
       "1          -73.979446    40.755481                 1    20     12   \n",
       "2          -73.981082    40.759285                 1    16      2   \n",
       "3          -73.985771    40.660366                 1    21      6   \n",
       "4          -73.933197    40.847225                 1     3      1   \n",
       "...               ...          ...               ...   ...    ...   \n",
       "1092002    -73.989557    40.757127                 3    19      4   \n",
       "1092003    -73.999100    40.731556                 1    14      2   \n",
       "1092004    -73.992147    40.751052                 1    12      9   \n",
       "1092005    -73.979259    40.781857                 2    23     12   \n",
       "1092006    -73.971886    40.750870                 1    19      5   \n",
       "\n",
       "         Day of Week  Year  Date  \n",
       "0                  2  2014    19  \n",
       "1                  5  2014     6  \n",
       "2                  2  2014    19  \n",
       "3                  6  2015    21  \n",
       "4                  6  2015    11  \n",
       "...              ...   ...   ...  \n",
       "1092002            2  2014    23  \n",
       "1092003            3  2015    26  \n",
       "1092004            1  2014    30  \n",
       "1092005            5  2014     6  \n",
       "1092006            5  2015    30  \n",
       "\n",
       "[1068979 rows x 12 columns]"
      ]
     },
     "execution_count": 25,
     "metadata": {},
     "output_type": "execute_result"
    }
   ],
   "source": [
    "# Any outliers? Should they be included or capped off? windorized?\n",
    "# Usually I might use an IQR calculation or windorize some values to determine statistically what are outliers or cap values off\n",
    "# but there seem to be some natural breaks that might be more intuative determiners of outliers in this situation\n",
    "data_df = data_df[data_df['Price'] > 0]\n",
    "\n",
    "data_df = data_df[data_df['Pickup Long'] < 0]\n",
    "data_df = data_df[data_df['Pickup Long'] > -150]\n",
    "\n",
    "data_df = data_df[data_df['Pickup Lat'] > 30]\n",
    "\n",
    "data_df = data_df[data_df['Dropoff Long'] < 0]\n",
    "data_df = data_df[data_df['Dropoff Long'] > -150]\n",
    "\n",
    "data_df = data_df[data_df['Dropoff Lat'] > 30]\n",
    "\n",
    "data_df\n",
    "# This has dropped about 30,000 rows. This is small in comparison to the total dataset\n"
   ]
  },
  {
   "cell_type": "markdown",
   "id": "68cafca2",
   "metadata": {},
   "source": [
    "#### Distance"
   ]
  },
  {
   "cell_type": "code",
   "execution_count": 26,
   "id": "8ded4ba3",
   "metadata": {},
   "outputs": [],
   "source": [
    "#long and lat are not great variables in a linear model because their distance is represented by comparing 2 variables to 2 different variables\n",
    "# I want to transform these 4 variables into 1 total variale representing distance. This can be done with long and lat by the haversine formula\n",
    "\n",
    "def haversine(row):\n",
    "    lon1 = row['Pickup Long']\n",
    "    lat1 = row['Pickup Lat']\n",
    "    lon2 = row['Dropoff Long']\n",
    "    lat2 = row['Dropoff Lat']\n",
    "    lon1, lat1, lon2, lat2 = map(radians, [lon1, lat1, lon2, lat2])\n",
    "    dlon = lon2 - lon1 \n",
    "    dlat = lat2 - lat1 \n",
    "    a = sin(dlat/2)**2 + cos(lat1) * cos(lat2) * sin(dlon/2)**2\n",
    "    c = 2 * arcsin(sqrt(a)) \n",
    "    km = 6367 * c\n",
    "    return km\n"
   ]
  },
  {
   "cell_type": "code",
   "execution_count": 27,
   "id": "c6517572",
   "metadata": {},
   "outputs": [
    {
     "data": {
      "text/html": [
       "<div>\n",
       "<style scoped>\n",
       "    .dataframe tbody tr th:only-of-type {\n",
       "        vertical-align: middle;\n",
       "    }\n",
       "\n",
       "    .dataframe tbody tr th {\n",
       "        vertical-align: top;\n",
       "    }\n",
       "\n",
       "    .dataframe thead th {\n",
       "        text-align: right;\n",
       "    }\n",
       "</style>\n",
       "<table border=\"1\" class=\"dataframe\">\n",
       "  <thead>\n",
       "    <tr style=\"text-align: right;\">\n",
       "      <th></th>\n",
       "      <th>Pickup Datetime</th>\n",
       "      <th>Price</th>\n",
       "      <th>Pickup Long</th>\n",
       "      <th>Pickup Lat</th>\n",
       "      <th>Dropoff Long</th>\n",
       "      <th>Dropoff Lat</th>\n",
       "      <th>Passenger Number</th>\n",
       "      <th>Hour</th>\n",
       "      <th>Month</th>\n",
       "      <th>Day of Week</th>\n",
       "      <th>Year</th>\n",
       "      <th>Date</th>\n",
       "      <th>Distance</th>\n",
       "    </tr>\n",
       "  </thead>\n",
       "  <tbody>\n",
       "    <tr>\n",
       "      <th>0</th>\n",
       "      <td>2014-02-19 07:22:00.000000740</td>\n",
       "      <td>12.50</td>\n",
       "      <td>-73.986430</td>\n",
       "      <td>40.760465</td>\n",
       "      <td>-73.988990</td>\n",
       "      <td>40.737075</td>\n",
       "      <td>1</td>\n",
       "      <td>7</td>\n",
       "      <td>2</td>\n",
       "      <td>2</td>\n",
       "      <td>2014</td>\n",
       "      <td>19</td>\n",
       "      <td>2.608136</td>\n",
       "    </tr>\n",
       "    <tr>\n",
       "      <th>1</th>\n",
       "      <td>2014-12-06 20:36:22.000000800</td>\n",
       "      <td>4.00</td>\n",
       "      <td>-73.979815</td>\n",
       "      <td>40.751902</td>\n",
       "      <td>-73.979446</td>\n",
       "      <td>40.755481</td>\n",
       "      <td>1</td>\n",
       "      <td>20</td>\n",
       "      <td>12</td>\n",
       "      <td>5</td>\n",
       "      <td>2014</td>\n",
       "      <td>6</td>\n",
       "      <td>0.398928</td>\n",
       "    </tr>\n",
       "    <tr>\n",
       "      <th>2</th>\n",
       "      <td>2014-02-19 16:03:00.000000160</td>\n",
       "      <td>5.50</td>\n",
       "      <td>-73.976075</td>\n",
       "      <td>40.752422</td>\n",
       "      <td>-73.981082</td>\n",
       "      <td>40.759285</td>\n",
       "      <td>1</td>\n",
       "      <td>16</td>\n",
       "      <td>2</td>\n",
       "      <td>2</td>\n",
       "      <td>2014</td>\n",
       "      <td>19</td>\n",
       "      <td>0.871366</td>\n",
       "    </tr>\n",
       "    <tr>\n",
       "      <th>3</th>\n",
       "      <td>2015-06-21 21:46:34.000000100</td>\n",
       "      <td>22.54</td>\n",
       "      <td>-74.010483</td>\n",
       "      <td>40.717667</td>\n",
       "      <td>-73.985771</td>\n",
       "      <td>40.660366</td>\n",
       "      <td>1</td>\n",
       "      <td>21</td>\n",
       "      <td>6</td>\n",
       "      <td>6</td>\n",
       "      <td>2015</td>\n",
       "      <td>21</td>\n",
       "      <td>6.699343</td>\n",
       "    </tr>\n",
       "    <tr>\n",
       "      <th>4</th>\n",
       "      <td>2015-01-11 03:15:38.000000100</td>\n",
       "      <td>58.00</td>\n",
       "      <td>-73.983330</td>\n",
       "      <td>40.738720</td>\n",
       "      <td>-73.933197</td>\n",
       "      <td>40.847225</td>\n",
       "      <td>1</td>\n",
       "      <td>3</td>\n",
       "      <td>1</td>\n",
       "      <td>6</td>\n",
       "      <td>2015</td>\n",
       "      <td>11</td>\n",
       "      <td>12.774031</td>\n",
       "    </tr>\n",
       "    <tr>\n",
       "      <th>...</th>\n",
       "      <td>...</td>\n",
       "      <td>...</td>\n",
       "      <td>...</td>\n",
       "      <td>...</td>\n",
       "      <td>...</td>\n",
       "      <td>...</td>\n",
       "      <td>...</td>\n",
       "      <td>...</td>\n",
       "      <td>...</td>\n",
       "      <td>...</td>\n",
       "      <td>...</td>\n",
       "      <td>...</td>\n",
       "      <td>...</td>\n",
       "    </tr>\n",
       "    <tr>\n",
       "      <th>1092002</th>\n",
       "      <td>2014-04-23 19:47:00.000000287</td>\n",
       "      <td>10.00</td>\n",
       "      <td>-73.980087</td>\n",
       "      <td>40.764892</td>\n",
       "      <td>-73.989557</td>\n",
       "      <td>40.757127</td>\n",
       "      <td>3</td>\n",
       "      <td>19</td>\n",
       "      <td>4</td>\n",
       "      <td>2</td>\n",
       "      <td>2014</td>\n",
       "      <td>23</td>\n",
       "      <td>1.174706</td>\n",
       "    </tr>\n",
       "    <tr>\n",
       "      <th>1092003</th>\n",
       "      <td>2015-02-26 14:47:47.000000600</td>\n",
       "      <td>7.00</td>\n",
       "      <td>-73.982101</td>\n",
       "      <td>40.736214</td>\n",
       "      <td>-73.999100</td>\n",
       "      <td>40.731556</td>\n",
       "      <td>1</td>\n",
       "      <td>14</td>\n",
       "      <td>2</td>\n",
       "      <td>3</td>\n",
       "      <td>2015</td>\n",
       "      <td>26</td>\n",
       "      <td>1.522049</td>\n",
       "    </tr>\n",
       "    <tr>\n",
       "      <th>1092004</th>\n",
       "      <td>2014-09-30 12:36:00.000000180</td>\n",
       "      <td>13.50</td>\n",
       "      <td>-73.976300</td>\n",
       "      <td>40.775957</td>\n",
       "      <td>-73.992147</td>\n",
       "      <td>40.751052</td>\n",
       "      <td>1</td>\n",
       "      <td>12</td>\n",
       "      <td>9</td>\n",
       "      <td>1</td>\n",
       "      <td>2014</td>\n",
       "      <td>30</td>\n",
       "      <td>3.072210</td>\n",
       "    </tr>\n",
       "    <tr>\n",
       "      <th>1092005</th>\n",
       "      <td>2014-12-06 23:04:28.000000200</td>\n",
       "      <td>10.50</td>\n",
       "      <td>-73.981063</td>\n",
       "      <td>40.764125</td>\n",
       "      <td>-73.979259</td>\n",
       "      <td>40.781857</td>\n",
       "      <td>2</td>\n",
       "      <td>23</td>\n",
       "      <td>12</td>\n",
       "      <td>5</td>\n",
       "      <td>2014</td>\n",
       "      <td>6</td>\n",
       "      <td>1.976310</td>\n",
       "    </tr>\n",
       "    <tr>\n",
       "      <th>1092006</th>\n",
       "      <td>2015-05-30 19:01:24.000000400</td>\n",
       "      <td>10.00</td>\n",
       "      <td>-73.965401</td>\n",
       "      <td>40.759140</td>\n",
       "      <td>-73.971886</td>\n",
       "      <td>40.750870</td>\n",
       "      <td>1</td>\n",
       "      <td>19</td>\n",
       "      <td>5</td>\n",
       "      <td>5</td>\n",
       "      <td>2015</td>\n",
       "      <td>30</td>\n",
       "      <td>1.068936</td>\n",
       "    </tr>\n",
       "  </tbody>\n",
       "</table>\n",
       "<p>1068979 rows × 13 columns</p>\n",
       "</div>"
      ],
      "text/plain": [
       "                      Pickup Datetime  Price  Pickup Long  Pickup Lat  \\\n",
       "0       2014-02-19 07:22:00.000000740  12.50   -73.986430   40.760465   \n",
       "1       2014-12-06 20:36:22.000000800   4.00   -73.979815   40.751902   \n",
       "2       2014-02-19 16:03:00.000000160   5.50   -73.976075   40.752422   \n",
       "3       2015-06-21 21:46:34.000000100  22.54   -74.010483   40.717667   \n",
       "4       2015-01-11 03:15:38.000000100  58.00   -73.983330   40.738720   \n",
       "...                               ...    ...          ...         ...   \n",
       "1092002 2014-04-23 19:47:00.000000287  10.00   -73.980087   40.764892   \n",
       "1092003 2015-02-26 14:47:47.000000600   7.00   -73.982101   40.736214   \n",
       "1092004 2014-09-30 12:36:00.000000180  13.50   -73.976300   40.775957   \n",
       "1092005 2014-12-06 23:04:28.000000200  10.50   -73.981063   40.764125   \n",
       "1092006 2015-05-30 19:01:24.000000400  10.00   -73.965401   40.759140   \n",
       "\n",
       "         Dropoff Long  Dropoff Lat  Passenger Number  Hour  Month  \\\n",
       "0          -73.988990    40.737075                 1     7      2   \n",
       "1          -73.979446    40.755481                 1    20     12   \n",
       "2          -73.981082    40.759285                 1    16      2   \n",
       "3          -73.985771    40.660366                 1    21      6   \n",
       "4          -73.933197    40.847225                 1     3      1   \n",
       "...               ...          ...               ...   ...    ...   \n",
       "1092002    -73.989557    40.757127                 3    19      4   \n",
       "1092003    -73.999100    40.731556                 1    14      2   \n",
       "1092004    -73.992147    40.751052                 1    12      9   \n",
       "1092005    -73.979259    40.781857                 2    23     12   \n",
       "1092006    -73.971886    40.750870                 1    19      5   \n",
       "\n",
       "         Day of Week  Year  Date   Distance  \n",
       "0                  2  2014    19   2.608136  \n",
       "1                  5  2014     6   0.398928  \n",
       "2                  2  2014    19   0.871366  \n",
       "3                  6  2015    21   6.699343  \n",
       "4                  6  2015    11  12.774031  \n",
       "...              ...   ...   ...        ...  \n",
       "1092002            2  2014    23   1.174706  \n",
       "1092003            3  2015    26   1.522049  \n",
       "1092004            1  2014    30   3.072210  \n",
       "1092005            5  2014     6   1.976310  \n",
       "1092006            5  2015    30   1.068936  \n",
       "\n",
       "[1068979 rows x 13 columns]"
      ]
     },
     "execution_count": 27,
     "metadata": {},
     "output_type": "execute_result"
    }
   ],
   "source": [
    "data_df['Distance'] = data_df.apply(lambda row: haversine(row), axis=1)\n",
    "data_df"
   ]
  },
  {
   "cell_type": "code",
   "execution_count": 28,
   "id": "2bef523a",
   "metadata": {},
   "outputs": [
    {
     "name": "stdout",
     "output_type": "stream",
     "text": [
      "0.000000       6268\n",
      "0.000084          1\n",
      "0.000084          1\n",
      "0.000084          1\n",
      "0.000084          1\n",
      "               ... \n",
      "1269.332957       1\n",
      "1303.730585       1\n",
      "1477.626051       1\n",
      "1781.159632       1\n",
      "3040.720975       1\n",
      "Name: Distance, Length: 1062562, dtype: int64\n"
     ]
    },
    {
     "data": {
      "text/plain": [
       "<AxesSubplot:>"
      ]
     },
     "execution_count": 28,
     "metadata": {},
     "output_type": "execute_result"
    },
    {
     "data": {
      "image/png": "[encoded data removed]",
      "text/plain": [
       "<Figure size 432x288 with 1 Axes>"
      ]
     },
     "metadata": {
      "needs_background": "light"
     },
     "output_type": "display_data"
    }
   ],
   "source": [
    "print(data_df['Distance'].value_counts().sort_index())\n",
    "data_df['Distance'].hist()\n",
    "#Distance has some outliers"
   ]
  },
  {
   "cell_type": "code",
   "execution_count": 29,
   "id": "be5c208e",
   "metadata": {},
   "outputs": [
    {
     "data": {
      "text/plain": [
       "<matplotlib.collections.PathCollection at 0x7fde473e7cd0>"
      ]
     },
     "execution_count": 29,
     "metadata": {},
     "output_type": "execute_result"
    },
    {
     "data": {
      "image/png": "[encoded data removed]",
      "text/plain": [
       "<Figure size 432x288 with 1 Axes>"
      ]
     },
     "metadata": {
      "needs_background": "light"
     },
     "output_type": "display_data"
    }
   ],
   "source": [
    "#Plot Distnace number vs. price\n",
    "plt.scatter(data_df['Distance'],data_df['Price'])"
   ]
  },
  {
   "cell_type": "code",
   "execution_count": 30,
   "id": "b5db42f8",
   "metadata": {},
   "outputs": [
    {
     "name": "stdout",
     "output_type": "stream",
     "text": [
      "Highest allowed 21.760945148287902\n",
      "Lowest allowed -14.896894416429022\n",
      "1068979\n",
      "1068952\n",
      "0.9999747422540574\n"
     ]
    }
   ],
   "source": [
    "# With the plot from above I can tell that there are a lot more outliers going to the effect the model than I first anticipated\n",
    "# A standard IQR calculation would rid the model of more data than I think necessary\n",
    "# IQR calculations\n",
    "print(\"Highest allowed\",data_df['Distance'].mean() + 3*data_df['Distance'].std())\n",
    "print(\"Lowest allowed\",data_df['Distance'].mean() - 3*data_df['Distance'].std())\n",
    "\n",
    "#After looking at the graph I could get rid of those observations with a Distance less than 250 and still keep \n",
    "#over 99% of the data and have the makings of what could be a really good model.\n",
    "# number of observations total\n",
    "print(len(data_df))\n",
    "print(len(data_df[data_df['Distance'] < 250]))\n",
    "# % of observations less than 250 in Distance\n",
    "print(len(data_df[data_df['Distance'] < 250])/len(data_df))\n",
    "\n",
    "# only include those that havea distance less than 250km\n",
    "data_df = data_df[data_df['Distance'] < 250]\n"
   ]
  },
  {
   "cell_type": "code",
   "execution_count": 31,
   "id": "7532d306",
   "metadata": {},
   "outputs": [
    {
     "data": {
      "text/plain": [
       "<matplotlib.collections.PathCollection at 0x7fde3d32dc70>"
      ]
     },
     "execution_count": 31,
     "metadata": {},
     "output_type": "execute_result"
    },
    {
     "data": {
      "image/png": "[encoded data removed]",
      "text/plain": [
       "<Figure size 432x288 with 1 Axes>"
      ]
     },
     "metadata": {
      "needs_background": "light"
     },
     "output_type": "display_data"
    }
   ],
   "source": [
    "#Plot Distnace number vs. price\n",
    "plt.scatter(data_df['Distance'],data_df['Price'])"
   ]
  },
  {
   "cell_type": "markdown",
   "id": "407a6f18",
   "metadata": {},
   "source": [
    "## Train and Test"
   ]
  },
  {
   "cell_type": "code",
   "execution_count": 32,
   "id": "6bce5e0f",
   "metadata": {},
   "outputs": [
    {
     "data": {
      "text/html": [
       "<div>\n",
       "<style scoped>\n",
       "    .dataframe tbody tr th:only-of-type {\n",
       "        vertical-align: middle;\n",
       "    }\n",
       "\n",
       "    .dataframe tbody tr th {\n",
       "        vertical-align: top;\n",
       "    }\n",
       "\n",
       "    .dataframe thead th {\n",
       "        text-align: right;\n",
       "    }\n",
       "</style>\n",
       "<table border=\"1\" class=\"dataframe\">\n",
       "  <thead>\n",
       "    <tr style=\"text-align: right;\">\n",
       "      <th></th>\n",
       "      <th>Passenger Number</th>\n",
       "      <th>Hour</th>\n",
       "      <th>Month</th>\n",
       "      <th>Day of Week</th>\n",
       "      <th>Year</th>\n",
       "      <th>Date</th>\n",
       "      <th>Distance</th>\n",
       "    </tr>\n",
       "  </thead>\n",
       "  <tbody>\n",
       "    <tr>\n",
       "      <th>0</th>\n",
       "      <td>1</td>\n",
       "      <td>7</td>\n",
       "      <td>2</td>\n",
       "      <td>2</td>\n",
       "      <td>2014</td>\n",
       "      <td>19</td>\n",
       "      <td>2.608136</td>\n",
       "    </tr>\n",
       "    <tr>\n",
       "      <th>1</th>\n",
       "      <td>1</td>\n",
       "      <td>20</td>\n",
       "      <td>12</td>\n",
       "      <td>5</td>\n",
       "      <td>2014</td>\n",
       "      <td>6</td>\n",
       "      <td>0.398928</td>\n",
       "    </tr>\n",
       "    <tr>\n",
       "      <th>2</th>\n",
       "      <td>1</td>\n",
       "      <td>16</td>\n",
       "      <td>2</td>\n",
       "      <td>2</td>\n",
       "      <td>2014</td>\n",
       "      <td>19</td>\n",
       "      <td>0.871366</td>\n",
       "    </tr>\n",
       "    <tr>\n",
       "      <th>3</th>\n",
       "      <td>1</td>\n",
       "      <td>21</td>\n",
       "      <td>6</td>\n",
       "      <td>6</td>\n",
       "      <td>2015</td>\n",
       "      <td>21</td>\n",
       "      <td>6.699343</td>\n",
       "    </tr>\n",
       "    <tr>\n",
       "      <th>4</th>\n",
       "      <td>1</td>\n",
       "      <td>3</td>\n",
       "      <td>1</td>\n",
       "      <td>6</td>\n",
       "      <td>2015</td>\n",
       "      <td>11</td>\n",
       "      <td>12.774031</td>\n",
       "    </tr>\n",
       "    <tr>\n",
       "      <th>5</th>\n",
       "      <td>1</td>\n",
       "      <td>8</td>\n",
       "      <td>3</td>\n",
       "      <td>3</td>\n",
       "      <td>2015</td>\n",
       "      <td>12</td>\n",
       "      <td>0.806193</td>\n",
       "    </tr>\n",
       "    <tr>\n",
       "      <th>6</th>\n",
       "      <td>6</td>\n",
       "      <td>10</td>\n",
       "      <td>7</td>\n",
       "      <td>2</td>\n",
       "      <td>2014</td>\n",
       "      <td>16</td>\n",
       "      <td>0.430600</td>\n",
       "    </tr>\n",
       "    <tr>\n",
       "      <th>7</th>\n",
       "      <td>6</td>\n",
       "      <td>9</td>\n",
       "      <td>5</td>\n",
       "      <td>3</td>\n",
       "      <td>2014</td>\n",
       "      <td>1</td>\n",
       "      <td>1.447049</td>\n",
       "    </tr>\n",
       "    <tr>\n",
       "      <th>8</th>\n",
       "      <td>4</td>\n",
       "      <td>9</td>\n",
       "      <td>1</td>\n",
       "      <td>4</td>\n",
       "      <td>2014</td>\n",
       "      <td>17</td>\n",
       "      <td>1.112720</td>\n",
       "    </tr>\n",
       "    <tr>\n",
       "      <th>9</th>\n",
       "      <td>6</td>\n",
       "      <td>18</td>\n",
       "      <td>4</td>\n",
       "      <td>1</td>\n",
       "      <td>2014</td>\n",
       "      <td>29</td>\n",
       "      <td>3.730865</td>\n",
       "    </tr>\n",
       "  </tbody>\n",
       "</table>\n",
       "</div>"
      ],
      "text/plain": [
       "   Passenger Number  Hour  Month  Day of Week  Year  Date   Distance\n",
       "0                 1     7      2            2  2014    19   2.608136\n",
       "1                 1    20     12            5  2014     6   0.398928\n",
       "2                 1    16      2            2  2014    19   0.871366\n",
       "3                 1    21      6            6  2015    21   6.699343\n",
       "4                 1     3      1            6  2015    11  12.774031\n",
       "5                 1     8      3            3  2015    12   0.806193\n",
       "6                 6    10      7            2  2014    16   0.430600\n",
       "7                 6     9      5            3  2014     1   1.447049\n",
       "8                 4     9      1            4  2014    17   1.112720\n",
       "9                 6    18      4            1  2014    29   3.730865"
      ]
     },
     "execution_count": 32,
     "metadata": {},
     "output_type": "execute_result"
    }
   ],
   "source": [
    "X = data_df.drop(['Price','Pickup Datetime','Pickup Long', 'Pickup Lat','Dropoff Long', 'Dropoff Lat'], axis = 1)\n",
    "Y = data_df['Price']\n",
    "X.head(10)\n"
   ]
  },
  {
   "cell_type": "code",
   "execution_count": 33,
   "id": "cc37b8e4",
   "metadata": {},
   "outputs": [
    {
     "name": "stdout",
     "output_type": "stream",
     "text": [
      "855161\n",
      "213791\n"
     ]
    },
    {
     "data": {
      "text/html": [
       "<div>\n",
       "<style scoped>\n",
       "    .dataframe tbody tr th:only-of-type {\n",
       "        vertical-align: middle;\n",
       "    }\n",
       "\n",
       "    .dataframe tbody tr th {\n",
       "        vertical-align: top;\n",
       "    }\n",
       "\n",
       "    .dataframe thead th {\n",
       "        text-align: right;\n",
       "    }\n",
       "</style>\n",
       "<table border=\"1\" class=\"dataframe\">\n",
       "  <thead>\n",
       "    <tr style=\"text-align: right;\">\n",
       "      <th></th>\n",
       "      <th>Passenger Number</th>\n",
       "      <th>Hour</th>\n",
       "      <th>Month</th>\n",
       "      <th>Day of Week</th>\n",
       "      <th>Year</th>\n",
       "      <th>Date</th>\n",
       "      <th>Distance</th>\n",
       "    </tr>\n",
       "  </thead>\n",
       "  <tbody>\n",
       "    <tr>\n",
       "      <th>426743</th>\n",
       "      <td>1</td>\n",
       "      <td>15</td>\n",
       "      <td>8</td>\n",
       "      <td>2</td>\n",
       "      <td>2014</td>\n",
       "      <td>27</td>\n",
       "      <td>1.435449</td>\n",
       "    </tr>\n",
       "    <tr>\n",
       "      <th>654466</th>\n",
       "      <td>1</td>\n",
       "      <td>19</td>\n",
       "      <td>6</td>\n",
       "      <td>1</td>\n",
       "      <td>2014</td>\n",
       "      <td>17</td>\n",
       "      <td>0.633811</td>\n",
       "    </tr>\n",
       "    <tr>\n",
       "      <th>952796</th>\n",
       "      <td>1</td>\n",
       "      <td>15</td>\n",
       "      <td>4</td>\n",
       "      <td>2</td>\n",
       "      <td>2015</td>\n",
       "      <td>22</td>\n",
       "      <td>6.056337</td>\n",
       "    </tr>\n",
       "    <tr>\n",
       "      <th>970576</th>\n",
       "      <td>1</td>\n",
       "      <td>14</td>\n",
       "      <td>6</td>\n",
       "      <td>2</td>\n",
       "      <td>2015</td>\n",
       "      <td>24</td>\n",
       "      <td>2.377325</td>\n",
       "    </tr>\n",
       "    <tr>\n",
       "      <th>745537</th>\n",
       "      <td>5</td>\n",
       "      <td>20</td>\n",
       "      <td>3</td>\n",
       "      <td>4</td>\n",
       "      <td>2015</td>\n",
       "      <td>27</td>\n",
       "      <td>3.957164</td>\n",
       "    </tr>\n",
       "    <tr>\n",
       "      <th>...</th>\n",
       "      <td>...</td>\n",
       "      <td>...</td>\n",
       "      <td>...</td>\n",
       "      <td>...</td>\n",
       "      <td>...</td>\n",
       "      <td>...</td>\n",
       "      <td>...</td>\n",
       "    </tr>\n",
       "    <tr>\n",
       "      <th>726233</th>\n",
       "      <td>1</td>\n",
       "      <td>0</td>\n",
       "      <td>6</td>\n",
       "      <td>1</td>\n",
       "      <td>2015</td>\n",
       "      <td>9</td>\n",
       "      <td>7.588221</td>\n",
       "    </tr>\n",
       "    <tr>\n",
       "      <th>981238</th>\n",
       "      <td>1</td>\n",
       "      <td>14</td>\n",
       "      <td>2</td>\n",
       "      <td>5</td>\n",
       "      <td>2014</td>\n",
       "      <td>8</td>\n",
       "      <td>0.059950</td>\n",
       "    </tr>\n",
       "    <tr>\n",
       "      <th>821668</th>\n",
       "      <td>1</td>\n",
       "      <td>16</td>\n",
       "      <td>2</td>\n",
       "      <td>4</td>\n",
       "      <td>2015</td>\n",
       "      <td>13</td>\n",
       "      <td>3.638205</td>\n",
       "    </tr>\n",
       "    <tr>\n",
       "      <th>631141</th>\n",
       "      <td>1</td>\n",
       "      <td>23</td>\n",
       "      <td>3</td>\n",
       "      <td>5</td>\n",
       "      <td>2015</td>\n",
       "      <td>14</td>\n",
       "      <td>1.918167</td>\n",
       "    </tr>\n",
       "    <tr>\n",
       "      <th>1071149</th>\n",
       "      <td>1</td>\n",
       "      <td>19</td>\n",
       "      <td>1</td>\n",
       "      <td>4</td>\n",
       "      <td>2015</td>\n",
       "      <td>30</td>\n",
       "      <td>4.297322</td>\n",
       "    </tr>\n",
       "  </tbody>\n",
       "</table>\n",
       "<p>855161 rows × 7 columns</p>\n",
       "</div>"
      ],
      "text/plain": [
       "         Passenger Number  Hour  Month  Day of Week  Year  Date  Distance\n",
       "426743                  1    15      8            2  2014    27  1.435449\n",
       "654466                  1    19      6            1  2014    17  0.633811\n",
       "952796                  1    15      4            2  2015    22  6.056337\n",
       "970576                  1    14      6            2  2015    24  2.377325\n",
       "745537                  5    20      3            4  2015    27  3.957164\n",
       "...                   ...   ...    ...          ...   ...   ...       ...\n",
       "726233                  1     0      6            1  2015     9  7.588221\n",
       "981238                  1    14      2            5  2014     8  0.059950\n",
       "821668                  1    16      2            4  2015    13  3.638205\n",
       "631141                  1    23      3            5  2015    14  1.918167\n",
       "1071149                 1    19      1            4  2015    30  4.297322\n",
       "\n",
       "[855161 rows x 7 columns]"
      ]
     },
     "execution_count": 33,
     "metadata": {},
     "output_type": "execute_result"
    }
   ],
   "source": [
    "x_train, x_test,y_train,y_test = train_test_split(X,Y,test_size =0.2, random_state = 10)\n",
    "print(len(x_train))\n",
    "print(len(x_test))\n",
    "x_train"
   ]
  },
  {
   "cell_type": "markdown",
   "id": "30edc349",
   "metadata": {},
   "source": [
    "## Model"
   ]
  },
  {
   "cell_type": "code",
   "execution_count": 34,
   "id": "df2035da",
   "metadata": {},
   "outputs": [
    {
     "data": {
      "text/plain": [
       "array([ 4.06585426,  6.39572451, 10.67178255, ..., 20.97490498,\n",
       "       10.12739341,  7.64784462])"
      ]
     },
     "execution_count": 34,
     "metadata": {},
     "output_type": "execute_result"
    }
   ],
   "source": [
    "# Linear Regression\n",
    "clf = LinearRegression()\n",
    "clf_fit = clf.fit(x_train,y_train)\n",
    "predicted = clf_fit.predict(x_test)\n",
    "predicted "
   ]
  },
  {
   "cell_type": "code",
   "execution_count": 35,
   "id": "92f28abf",
   "metadata": {},
   "outputs": [
    {
     "name": "stdout",
     "output_type": "stream",
     "text": [
      "-545.8967679640377\n",
      "[ 1.93651320e-02  1.50100194e-02  5.31959820e-02 -8.77995881e-02\n",
      "  2.72859077e-01  1.17563833e-03  2.61454317e+00]\n"
     ]
    }
   ],
   "source": [
    "#Prints y-intercept\n",
    "print(clf.intercept_)\n",
    "\n",
    "#beta coefficents in same order as passed\n",
    "print(clf.coef_)"
   ]
  },
  {
   "cell_type": "markdown",
   "id": "cab2247f",
   "metadata": {},
   "source": [
    "#### Validation"
   ]
  },
  {
   "cell_type": "code",
   "execution_count": 36,
   "id": "cf5b1f89",
   "metadata": {},
   "outputs": [
    {
     "data": {
      "text/plain": [
       "0.7891330779541338"
      ]
     },
     "execution_count": 36,
     "metadata": {},
     "output_type": "execute_result"
    }
   ],
   "source": [
    "# r squared value\n",
    "clf.score(x_test,y_test)"
   ]
  },
  {
   "cell_type": "code",
   "execution_count": 37,
   "id": "cfefc8e4",
   "metadata": {},
   "outputs": [
    {
     "name": "stdout",
     "output_type": "stream",
     "text": [
      "2.5433425469952793\n",
      "26.420876417098743\n"
     ]
    },
    {
     "data": {
      "text/plain": [
       "5.140124163587758"
      ]
     },
     "execution_count": 37,
     "metadata": {},
     "output_type": "execute_result"
    }
   ],
   "source": [
    "#result mae\n",
    "print(metrics.mean_absolute_error(y_test, predicted))\n",
    "#mse\n",
    "print(metrics.mean_squared_error(y_test, predicted)) # remember outliers really effect this measurement\n",
    "#rmse\n",
    "np.sqrt(metrics.mean_squared_error(y_test, predicted))"
   ]
  },
  {
   "cell_type": "markdown",
   "id": "9e3902e8",
   "metadata": {},
   "source": [
    "### Feature Selection"
   ]
  },
  {
   "cell_type": "code",
   "execution_count": 38,
   "id": "ee6bead5",
   "metadata": {},
   "outputs": [
    {
     "data": {
      "text/html": [
       "<div>\n",
       "<style scoped>\n",
       "    .dataframe tbody tr th:only-of-type {\n",
       "        vertical-align: middle;\n",
       "    }\n",
       "\n",
       "    .dataframe tbody tr th {\n",
       "        vertical-align: top;\n",
       "    }\n",
       "\n",
       "    .dataframe thead th {\n",
       "        text-align: right;\n",
       "    }\n",
       "</style>\n",
       "<table border=\"1\" class=\"dataframe\">\n",
       "  <thead>\n",
       "    <tr style=\"text-align: right;\">\n",
       "      <th></th>\n",
       "      <th>index</th>\n",
       "      <th>col</th>\n",
       "      <th>importance</th>\n",
       "    </tr>\n",
       "  </thead>\n",
       "  <tbody>\n",
       "    <tr>\n",
       "      <th>0</th>\n",
       "      <td>6</td>\n",
       "      <td>Distance</td>\n",
       "      <td>2.614543</td>\n",
       "    </tr>\n",
       "    <tr>\n",
       "      <th>1</th>\n",
       "      <td>4</td>\n",
       "      <td>Year</td>\n",
       "      <td>0.272859</td>\n",
       "    </tr>\n",
       "    <tr>\n",
       "      <th>2</th>\n",
       "      <td>2</td>\n",
       "      <td>Month</td>\n",
       "      <td>0.053196</td>\n",
       "    </tr>\n",
       "    <tr>\n",
       "      <th>3</th>\n",
       "      <td>0</td>\n",
       "      <td>Passenger Number</td>\n",
       "      <td>0.019365</td>\n",
       "    </tr>\n",
       "    <tr>\n",
       "      <th>4</th>\n",
       "      <td>1</td>\n",
       "      <td>Hour</td>\n",
       "      <td>0.015010</td>\n",
       "    </tr>\n",
       "    <tr>\n",
       "      <th>5</th>\n",
       "      <td>5</td>\n",
       "      <td>Date</td>\n",
       "      <td>0.001176</td>\n",
       "    </tr>\n",
       "    <tr>\n",
       "      <th>6</th>\n",
       "      <td>3</td>\n",
       "      <td>Day of Week</td>\n",
       "      <td>-0.087800</td>\n",
       "    </tr>\n",
       "  </tbody>\n",
       "</table>\n",
       "</div>"
      ],
      "text/plain": [
       "   index               col  importance\n",
       "0      6          Distance    2.614543\n",
       "1      4              Year    0.272859\n",
       "2      2             Month    0.053196\n",
       "3      0  Passenger Number    0.019365\n",
       "4      1              Hour    0.015010\n",
       "5      5              Date    0.001176\n",
       "6      3       Day of Week   -0.087800"
      ]
     },
     "execution_count": 38,
     "metadata": {},
     "output_type": "execute_result"
    }
   ],
   "source": [
    "#feature importance values\n",
    "importances = pd.DataFrame(list(zip(list(X.columns.values), clf.coef_)))\n",
    "importances.columns = ['col', 'importance']\n",
    "importances = importances.sort_values('importance', ascending=False).reset_index()\n",
    "importances"
   ]
  },
  {
   "cell_type": "code",
   "execution_count": 39,
   "id": "c6d04f07",
   "metadata": {},
   "outputs": [
    {
     "data": {
      "text/html": [
       "<div>\n",
       "<style scoped>\n",
       "    .dataframe tbody tr th:only-of-type {\n",
       "        vertical-align: middle;\n",
       "    }\n",
       "\n",
       "    .dataframe tbody tr th {\n",
       "        vertical-align: top;\n",
       "    }\n",
       "\n",
       "    .dataframe thead th {\n",
       "        text-align: right;\n",
       "    }\n",
       "</style>\n",
       "<table border=\"1\" class=\"dataframe\">\n",
       "  <thead>\n",
       "    <tr style=\"text-align: right;\">\n",
       "      <th></th>\n",
       "      <th>Price</th>\n",
       "      <th>Passenger Number</th>\n",
       "      <th>Hour</th>\n",
       "      <th>Month</th>\n",
       "      <th>Day of Week</th>\n",
       "      <th>Year</th>\n",
       "      <th>Date</th>\n",
       "      <th>Distance</th>\n",
       "    </tr>\n",
       "  </thead>\n",
       "  <tbody>\n",
       "    <tr>\n",
       "      <th>Price</th>\n",
       "      <td>1.000000</td>\n",
       "      <td>0.013729</td>\n",
       "      <td>-0.014113</td>\n",
       "      <td>0.024507</td>\n",
       "      <td>-0.004568</td>\n",
       "      <td>0.003761</td>\n",
       "      <td>0.002902</td>\n",
       "      <td>0.882988</td>\n",
       "    </tr>\n",
       "    <tr>\n",
       "      <th>Passenger Number</th>\n",
       "      <td>0.013729</td>\n",
       "      <td>1.000000</td>\n",
       "      <td>0.011366</td>\n",
       "      <td>-0.000350</td>\n",
       "      <td>0.023904</td>\n",
       "      <td>-0.004718</td>\n",
       "      <td>0.001329</td>\n",
       "      <td>0.013103</td>\n",
       "    </tr>\n",
       "    <tr>\n",
       "      <th>Hour</th>\n",
       "      <td>-0.014113</td>\n",
       "      <td>0.011366</td>\n",
       "      <td>1.000000</td>\n",
       "      <td>-0.000716</td>\n",
       "      <td>-0.083877</td>\n",
       "      <td>0.000664</td>\n",
       "      <td>0.004550</td>\n",
       "      <td>-0.027239</td>\n",
       "    </tr>\n",
       "    <tr>\n",
       "      <th>Month</th>\n",
       "      <td>0.024507</td>\n",
       "      <td>-0.000350</td>\n",
       "      <td>-0.000716</td>\n",
       "      <td>1.000000</td>\n",
       "      <td>-0.018615</td>\n",
       "      <td>-0.412400</td>\n",
       "      <td>-0.010307</td>\n",
       "      <td>0.015395</td>\n",
       "    </tr>\n",
       "    <tr>\n",
       "      <th>Day of Week</th>\n",
       "      <td>-0.004568</td>\n",
       "      <td>0.023904</td>\n",
       "      <td>-0.083877</td>\n",
       "      <td>-0.018615</td>\n",
       "      <td>1.000000</td>\n",
       "      <td>0.007704</td>\n",
       "      <td>0.012564</td>\n",
       "      <td>0.013136</td>\n",
       "    </tr>\n",
       "    <tr>\n",
       "      <th>Year</th>\n",
       "      <td>0.003761</td>\n",
       "      <td>-0.004718</td>\n",
       "      <td>0.000664</td>\n",
       "      <td>-0.412400</td>\n",
       "      <td>0.007704</td>\n",
       "      <td>1.000000</td>\n",
       "      <td>-0.001184</td>\n",
       "      <td>-0.001464</td>\n",
       "    </tr>\n",
       "    <tr>\n",
       "      <th>Date</th>\n",
       "      <td>0.002902</td>\n",
       "      <td>0.001329</td>\n",
       "      <td>0.004550</td>\n",
       "      <td>-0.010307</td>\n",
       "      <td>0.012564</td>\n",
       "      <td>-0.001184</td>\n",
       "      <td>1.000000</td>\n",
       "      <td>0.002554</td>\n",
       "    </tr>\n",
       "    <tr>\n",
       "      <th>Distance</th>\n",
       "      <td>0.882988</td>\n",
       "      <td>0.013103</td>\n",
       "      <td>-0.027239</td>\n",
       "      <td>0.015395</td>\n",
       "      <td>0.013136</td>\n",
       "      <td>-0.001464</td>\n",
       "      <td>0.002554</td>\n",
       "      <td>1.000000</td>\n",
       "    </tr>\n",
       "  </tbody>\n",
       "</table>\n",
       "</div>"
      ],
      "text/plain": [
       "                     Price  Passenger Number      Hour     Month  Day of Week  \\\n",
       "Price             1.000000          0.013729 -0.014113  0.024507    -0.004568   \n",
       "Passenger Number  0.013729          1.000000  0.011366 -0.000350     0.023904   \n",
       "Hour             -0.014113          0.011366  1.000000 -0.000716    -0.083877   \n",
       "Month             0.024507         -0.000350 -0.000716  1.000000    -0.018615   \n",
       "Day of Week      -0.004568          0.023904 -0.083877 -0.018615     1.000000   \n",
       "Year              0.003761         -0.004718  0.000664 -0.412400     0.007704   \n",
       "Date              0.002902          0.001329  0.004550 -0.010307     0.012564   \n",
       "Distance          0.882988          0.013103 -0.027239  0.015395     0.013136   \n",
       "\n",
       "                      Year      Date  Distance  \n",
       "Price             0.003761  0.002902  0.882988  \n",
       "Passenger Number -0.004718  0.001329  0.013103  \n",
       "Hour              0.000664  0.004550 -0.027239  \n",
       "Month            -0.412400 -0.010307  0.015395  \n",
       "Day of Week       0.007704  0.012564  0.013136  \n",
       "Year              1.000000 -0.001184 -0.001464  \n",
       "Date             -0.001184  1.000000  0.002554  \n",
       "Distance         -0.001464  0.002554  1.000000  "
      ]
     },
     "execution_count": 39,
     "metadata": {},
     "output_type": "execute_result"
    }
   ],
   "source": [
    "# Correlation Matrix\n",
    "corr_variables =  data_df.drop(['Pickup Datetime','Pickup Long', 'Pickup Lat','Dropoff Long', 'Dropoff Lat'], axis = 1)\n",
    "# calculate correlation matrix\n",
    "corr_df = corr_variables.corr()\n",
    "corr_df"
   ]
  },
  {
   "cell_type": "code",
   "execution_count": 40,
   "id": "d6f0cc24",
   "metadata": {},
   "outputs": [
    {
     "data": {
      "text/plain": [
       "<AxesSubplot:>"
      ]
     },
     "execution_count": 40,
     "metadata": {},
     "output_type": "execute_result"
    },
    {
     "data": {
      "image/png": "[encoded data removed]",
      "text/plain": [
       "<Figure size 720x720 with 2 Axes>"
      ]
     },
     "metadata": {
      "needs_background": "light"
     },
     "output_type": "display_data"
    }
   ],
   "source": [
    "# create heathmap to visualize correlation matrix\n",
    "fig, ax = plt.subplots(figsize=(10,10))         \n",
    "sns.heatmap(corr_df, cmap='RdBu')"
   ]
  },
  {
   "cell_type": "code",
   "execution_count": 41,
   "id": "8f051587",
   "metadata": {},
   "outputs": [
    {
     "name": "stdout",
     "output_type": "stream",
     "text": [
      "855161\n",
      "213791\n"
     ]
    },
    {
     "data": {
      "text/plain": [
       "array([ 4.27900052,  6.26488483, 10.51876453, ..., 20.58539305,\n",
       "        9.62242632,  7.60405059])"
      ]
     },
     "execution_count": 41,
     "metadata": {},
     "output_type": "execute_result"
    }
   ],
   "source": [
    "# Rerun model after feature selection - or excluding the day of week variable\n",
    "# start by removing features that don't help model from dfs\n",
    "X = data_df.drop(['Price','Pickup Datetime', 'Pickup Long', 'Dropoff Long', 'Year', 'Passenger Number','Hour','Day of Week'], axis = 1)\n",
    "Y = data_df['Price']\n",
    "\n",
    "x_train, x_test,y_train,y_test = train_test_split(X,Y,test_size =0.2, random_state = 10)\n",
    "print(len(x_train))\n",
    "print(len(x_test))\n",
    "x_train\n",
    "\n",
    "# Linear Regression\n",
    "clf = LinearRegression()\n",
    "clf_fit = clf.fit(x_train,y_train)\n",
    "predicted = clf_fit.predict(x_test)\n",
    "predicted \n",
    "\n"
   ]
  },
  {
   "cell_type": "code",
   "execution_count": 42,
   "id": "fc122cf9",
   "metadata": {},
   "outputs": [
    {
     "data": {
      "text/plain": [
       "0.7895476944471905"
      ]
     },
     "execution_count": 42,
     "metadata": {},
     "output_type": "execute_result"
    }
   ],
   "source": [
    "# r squared value\n",
    "clf.score(x_test,y_test)"
   ]
  },
  {
   "cell_type": "code",
   "execution_count": 43,
   "id": "a345be5d",
   "metadata": {},
   "outputs": [
    {
     "name": "stdout",
     "output_type": "stream",
     "text": [
      "135.5478594664069\n",
      "[ 9.86832317e+00 -1.31017138e+01  3.80159369e-02  9.50450477e-04\n",
      "  2.61586906e+00]\n"
     ]
    }
   ],
   "source": [
    "#Prints y-intercept\n",
    "print(clf.intercept_)\n",
    "\n",
    "#beta coefficents in same order as passed\n",
    "print(clf.coef_)"
   ]
  },
  {
   "cell_type": "code",
   "execution_count": 44,
   "id": "11f53528",
   "metadata": {},
   "outputs": [
    {
     "name": "stdout",
     "output_type": "stream",
     "text": [
      "2.538469651393393\n",
      "26.368926443071246\n"
     ]
    },
    {
     "data": {
      "text/plain": [
       "5.1350682997474575"
      ]
     },
     "execution_count": 44,
     "metadata": {},
     "output_type": "execute_result"
    }
   ],
   "source": [
    "#result mae\n",
    "print(metrics.mean_absolute_error(y_test, predicted))\n",
    "#mse\n",
    "print(metrics.mean_squared_error(y_test, predicted))\n",
    "#rmse\n",
    "np.sqrt(metrics.mean_squared_error(y_test, predicted))\n",
    "# with these metrics there was no improvement excluding any variables after looking at the feature importance values"
   ]
  },
  {
   "cell_type": "markdown",
   "id": "0cdac6f5",
   "metadata": {},
   "source": [
    "## Explorium Data Science Home Assignment \n",
    "**Questions for discussion:**\n",
    "\n",
    "**1. Do you see any limitations/abnormalities in the data? What issues are these likely to cause in the analysis, and how would you address them?**\n",
    "\n",
    "\n",
    "'Pickup Datetime' did not seem to have any abnormalities visible. Although, this is not a friendly format and with have to be altered.\n",
    "\n",
    "The 'Price' variable had negative values. These values don't make sense in this model. There are some outliers that are extremely high but I will include them at this time because they are at least \"possible\".\n",
    "\n",
    "The variable 'Pickup Long' had some values that were 0 (which is unusual) and some longitudes that range from -120 (as far west as Nevada) to -50 (the middle of the Atlantic Ocean). This is unusual. Without being able to gain more context I believe that these observations shouldn't be included. With most variables I would usually determine the outliers by using a IQR calculation and potentially not include these observations. This variable in the data set has some natural breaks that make determining outliers more intuitive and potentially keep more data. I only included longitudes in the range 0 to -150 degrees.\n",
    "\n",
    "I removed 0 latitudes in the variable 'Pickup Lat'. The location of 0 latitudes is nowhere near New York. These values also range from 60 to -20. This is also unusual. It does not seem likely that someone took a ride to Central America or even further south. Once again, using some natural breaks in the data I have determined what should be included and what data may be considered outliers. I only included latitudes greater than 30 degrees after viewing these natural breaks in the data.\n",
    "\n",
    "For the 'Dropoff Long' variable, I removed values that were determined to be 0 and anything outside of the intuitive range. To keep boundaries consistent I have only included longitudes in the range of 0 to -150 degrees (just like the pick up long).\n",
    " \n",
    "'Dropoff Lat' does not include any observations that are 0 either. I only included latitudes greater than 30 degrees (just like I have with the pickup lat).\n",
    "\n",
    "The 'Number Passengers' variable is interesting. Without being able to gain additional context I will assume that if a ride has 0 passengers then they shouldn't be charged and therefore, they should be removed from the dataframe. There are a few observations that have a 'Number Passengers' variable that is very high (7 and 9 passengers) but it is possible in a commuter van, etc. I will include the high observations in 'Number Passengers' at this time.\n",
    "\n",
    "\n",
    "\n",
    "**2. How would you approach building the model? What kind of model(s) would you expect to perform well? What objective/loss functions, and performance metrics make sense here, in context of the business use case?**\n",
    "\n",
    "I like to approach modeling with very simple (appropriate) models first and then increase in complexity. If a simpler model is just as accurate as a complex model then I like to use the simpler, more interpretable model. I believe interoperability has some value along with accuracy and other validation measurements.\n",
    "\n",
    "A simple regression may do well in this situation due to the output variable ('Price') being a continuous variable and we have multiple independent variables. I will perform a multivariate linear regression for this exercise but if I were to spend more time on this project I would then perform a decision tree regression and then a random forest regression and compare my results to determine which model has the best metrics for this problem. A KNN using zip codes or ‘zones’ may also be an interesting alternative.\n",
    "\n",
    "The performance metrics that make sense for this model would be r squared (or the amount of variability explained in the model), Mean Squared Error (MSE), Root Mean Squared Error (RMSE), and Mean Absolute Error (MAE).\n",
    "\n",
    "\n",
    "\n",
    "\n",
    "**3. Are there any additional features that would be helpful in constructing the model?**\n",
    "\n",
    "I converted the datetime variable and split it to create 5 different features - hour, day, day of the week, month and year. These features could help account for different patterns in that occur during the day, week, etc\n",
    "\n",
    "I also looked into including US federal holidays and converting date information to weekdays/weekends and neither of these features had added any predictive accuracy to the model.\n",
    "\n",
    "I created the feature 'Distance' by using the Haversine formula on the pickup and dropoff lat/long values to calculate the distance between the two points in kms. After I looked at this newly calculated ‘Distance’ vs. Price I was able to identify a few more points that could be defined as outliers. I decided to exclude several more data points to increase the models overall accuracy while still including a lot of values that may be capped or not included using a simple IQR calculation of outliers.\n",
    "\n",
    "\n",
    "\n",
    "**4. How would you select and identify the most predictive features in the model?** \n",
    "\n",
    "I am using a correlation matrix and feature importance values to help identify some of the most predictive features. \n",
    "Distance is by far the most predictive feature in the model. The correlation matrix could tell us this before the use of the model and the features importance after the model was run.\n",
    "\n",
    "\n",
    "\n",
    "**5. Please run a predictive model and briefly assess its performance.**\n",
    "\n",
    "After running a linear regression, the metrics are as follows:\n",
    "\n",
    "r-squared- 0.789317759499137\n",
    "\n",
    "MAE- 2.5399054346550116\n",
    "\n",
    "MSE- 26.397736475425077\n",
    "\n",
    "RMSE- 5.13787275780795\n",
    "\n",
    "\n",
    "These metrics were not improved when I excluded variables with a low feature importance - this leads me to believe that their influence on the model is very limited and/or there are interactions between variables that help the model perform better (or have a higher absolute r squared value and lower MAE, MSE, and RMSE).\n",
    "\n",
    "\n",
    "**6. What other data would be helpful to have in order to improve the model’s performance? If you could have any external data what would it be?**\n",
    "\n",
    "Some variables of interest might be:\n",
    "Drop off Datetime\n",
    "Average Speed Limit for the ride\n",
    "Days since Driver acquired licence\n",
    "Is traffic as usual? Lower? Higher?\n",
    "Weather at time of ride\n",
    "Whether there was an accident on route or not\n",
    "Whether they are local or tourists (or lat and long of home address)\n",
    "\n",
    "**7. Great news! Explorium’s Research Team has found a data source - OpenStreetMap (OSM) - which they feel is likely to boost the model’s performance. This file contains the lat/long coordinates of various geographic points of interest, a full list of which you can find at https://wiki.openstreetmap.org/wiki/Map_features. The file itself is at\n",
    "https://drive.google.com/file/d/1X8-HI6h1oSBQ5Ntk08qyNWzEm7geKUS4/view\n",
    "At a high level - please provide some thoughts around how you could use this OSM data to add more richness to the ride-sharing data. What kind of data would you recommend adding to the core dataset, and how would you go about actually combining the datasets. (We’re interested in your approach and thought process on this\n",
    "problem; actual merging of data and rerunning of models is not necessary. You may want to prove out your idea by showing how a small sample of the data would work in such a join.)**\n",
    "\n",
    "I would add the lat/long of some of the more popular attractions in NYC, e.g. Ground Zero, Statue of Liberty, Brooklyn Bridge, Empire State Building, Rockefeller Center, etc. to the data. I would go about this by calculating the distance (as I did above between the pickup lat/long and dropoff lat/long above). I would use the Haversine formula between the pickup lat/long and the Attractions lat/long to calculate the total distance between the two points in kms. I would continue to do this between the pickup lat/long and other attractions that I am interested in. Therefore, there would be a column for each attraction of interest.\n",
    "\n",
    "\n"
   ]
  },
  {
   "cell_type": "code",
   "execution_count": null,
   "id": "6a9efe93",
   "metadata": {},
   "outputs": [],
   "source": []
  }
 ],
 "metadata": {
  "kernelspec": {
   "display_name": "Python (scale)",
   "language": "python",
   "name": "scale"
  },
  "language_info": {
   "codemirror_mode": {
    "name": "ipython",
    "version": 3
   },
   "file_extension": ".py",
   "mimetype": "text/x-python",
   "name": "python",
   "nbconvert_exporter": "python",
   "pygments_lexer": "ipython3",
   "version": "3.8.5"
  }
 },
 "nbformat": 4,
 "nbformat_minor": 5
}
